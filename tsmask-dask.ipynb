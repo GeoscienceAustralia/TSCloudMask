{
 "cells": [
  {
   "cell_type": "code",
   "execution_count": 1,
   "metadata": {},
   "outputs": [],
   "source": [
    "import rasterio\n",
    "import xarray as xr\n",
    "import sys\n",
    "import datacube\n",
    "import dea_datahandling as ddh\n",
    "import numpy as np\n",
    "import tsmask_func as tsf\n",
    "from multiprocessing import Pool\n",
    "import dask.array as da\n",
    "\n"
   ]
  },
  {
   "cell_type": "code",
   "execution_count": 2,
   "metadata": {},
   "outputs": [],
   "source": [
    "def load_s2_nbart_ts_cor_dask(\n",
    "    dc, lat_top, lat_bottom, lon_left, lon_right, start_of_epoch, end_of_epoch, chunks\n",
    "):\n",
    "\n",
    "    \n",
    "    allbands = [\n",
    "        \"nbart_blue\",\n",
    "        \"nbart_green\",\n",
    "        \"nbart_red\",\n",
    "        \"nbart_nir_2\",\n",
    "        \"nbart_swir_2\",\n",
    "        \"nbart_swir_3\",\n",
    "        \"fmask\",\n",
    "    ]\n",
    "    \n",
    "    # Define spatial and temporal coverage\n",
    "\n",
    "    newquery = {\n",
    "        \"crs\": \"EPSG:3577\",\n",
    "        \"x\": (lon_left, lon_right),\n",
    "        \"y\": (lat_top, lat_bottom),\n",
    "        \"time\": (start_of_epoch, end_of_epoch),\n",
    "        \"output_crs\": \"EPSG:3577\",\n",
    "        \"resolution\": (-20, 20),\n",
    "        \"measurements\": allbands,\n",
    "        \"dask_chunks\": chunks,\n",
    "        \"group_by\": \"solar_day\",\n",
    "    }\n",
    "\n",
    "    # Names of targeted spectral bands\n",
    "\n",
    "\n",
    "    # Band names used with in the dataset\n",
    "    new_bandlabels = [\"blue\", \"green\", \"red\", \"nir\", \"swir1\", \"swir2\", \"fmask\"]\n",
    "\n",
    "    # Load S2 data using Datacube API\n",
    " \n",
    "\n",
    "    s2_ds = ddh.load_ard(dc,\n",
    "             products=['s2a_ard_granule', 's2b_ard_granule'],\n",
    "             min_gooddata=0.0,\n",
    "             mask_pixel_quality=False,\n",
    "             **newquery)\n",
    "    \n",
    "    # Rename spectral band names to new band labels\n",
    "    rndic = dict(zip(allbands, new_bandlabels))\n",
    "    s2_ds = s2_ds.rename(rndic)\n",
    "\n",
    "    # Add tsmask dataarray to the dataset\n",
    "\n",
    "    s2_ds[\"tsmask\"] = s2_ds[\"blue\"]\n",
    "    s2_ds[\"tsmask\"].values = np.zeros(\n",
    "        (s2_ds[\"time\"].size, s2_ds[\"y\"].size, s2_ds[\"x\"].size), dtype=np.uint8)\n",
    "        \n",
    "    \n",
    "    return s2_ds"
   ]
  },
  {
   "cell_type": "code",
   "execution_count": null,
   "metadata": {},
   "outputs": [],
   "source": []
  },
  {
   "cell_type": "code",
   "execution_count": null,
   "metadata": {},
   "outputs": [],
   "source": []
  },
  {
   "cell_type": "code",
   "execution_count": 3,
   "metadata": {},
   "outputs": [],
   "source": [
    "start_of_epoch, end_of_epoch = \"2015-01-01\", \"2020-12-31\"\n",
    "(y1, y2, x1, x2) =  (-2682355.0, -2725625.0, 438225.0, 469355.0)\n"
   ]
  },
  {
   "cell_type": "code",
   "execution_count": 4,
   "metadata": {},
   "outputs": [
    {
     "name": "stdout",
     "output_type": "stream",
     "text": [
      "Finding datasets\n",
      "    s2a_ard_granule\n",
      "    s2b_ard_granule\n",
      "Returning 542 time steps as a dask array\n"
     ]
    }
   ],
   "source": [
    "dc = datacube.Datacube(app='load_clearsentinel')\n",
    "\n",
    "tg_ds=load_s2_nbart_ts_cor_dask(dc, y1, y2, x1, x2, start_of_epoch, end_of_epoch, {   \n",
    "        \"time\": 1,\n",
    "    }   )"
   ]
  },
  {
   "cell_type": "code",
   "execution_count": 5,
   "metadata": {},
   "outputs": [],
   "source": [
    "def tsmask_filter_block(s2_ds, block):\n",
    "    \n",
    "    # Define the spatial subset\n",
    "    \n",
    "    [r1, r2, c1, c2] = block\n",
    "    print(\"Loading S2 NBART time series surface reflectance data for block(\", r1, r2, c1, c2, \")\")\n",
    "    \n",
    "    # scale factor\n",
    "    scale = 10000.0\n",
    "\n",
    "    # invalid value\n",
    "    ivd = -999\n",
    "    \n",
    "    \n",
    "    # Load NABR-T data from Dask array\n",
    "    \n",
    "    blue = s2_ds[\"blue\"][:, r1:r2, c1:c2].values\n",
    "    green = s2_ds[\"green\"][:, r1:r2, c1:c2].values\n",
    "    red = s2_ds[\"red\"][:, r1:r2, c1:c2].values\n",
    "    nir = s2_ds[\"nir\"][:, r1:r2, c1:c2].values\n",
    "    swir1 = s2_ds[\"swir1\"][:, r1:r2, c1:c2].values\n",
    "    swir2 = s2_ds[\"swir2\"][:, r1:r2, c1:c2].values\n",
    "    tsmask = s2_ds[\"tsmask\"][:, r1:r2, c1:c2].values\n",
    "\n",
    "    \n",
    "    # initialise tsmask, all as clear pixels\n",
    "    tsmask[:] = 1\n",
    "\n",
    "\n",
    " \n",
    "    # detect pixels with invalid data value\n",
    "    tsmask[blue<=ivd]=0\n",
    "    tsmask[green<=ivd]=0\n",
    "    tsmask[red<=ivd]=0\n",
    "    tsmask[nir<=ivd]=0\n",
    "    tsmask[swir1<=ivd]=0\n",
    "    tsmask[swir2<=ivd]=0\n",
    "                    \n",
    "    # detect pixels with invalid data value  \n",
    "    tsmask[blue == 0] = 0\n",
    "    tsmask[green == 0] = 0\n",
    "    tsmask[red == 0] = 0\n",
    "    tsmask[nir == 0] = 0\n",
    "    tsmask[swir1 == 0] = 0\n",
    "    tsmask[swir2 == 0] = 0\n",
    "\n",
    " \n",
    "    #Band average, a proxy index of brightness\n",
    "    sa = ((blue+green+red+nir+swir1+swir2)/scale/6).astype(np.float32)\n",
    "   \n",
    "    \n",
    "    # modified normalised difference water index\n",
    "    mndwi = ((green - swir1) / (green + swir1)).astype(np.float32)\n",
    "  \n",
    "    \n",
    "    # modified soil adjusted vegetation index\n",
    "    msavi = ((2 * nir/scale + 1 - np.sqrt((2 * nir/scale + 1) * (2 * nir/scale + 1) - 8 * (nir/scale - red/scale))) / 2).astype(np.float32)\n",
    "    \n",
    "    \n",
    "    # Band different ratio between red and blue\n",
    "    wbi = ((red - blue) / blue).astype(np.float32)\n",
    "   \n",
    "    \n",
    "    # Sum of red and blue band\n",
    "    rgm = ((red + blue)/scale).astype(np.float32)\n",
    "    \n",
    "    \n",
    "    \n",
    "    # Band different ratio between green and mean of red and blue\n",
    "    grbm = (green - (red + blue) / 2) / ((red + blue) / 2).astype(np.float32)\n",
    "      \n",
    "    \n",
    "    # Bright cloud theshold\n",
    "    maxcldthd = 0.45\n",
    "\n",
    "    # label all ultra-bright pixels as clouds\n",
    "    tsmask[sa > maxcldthd] = 2\n",
    "    \n",
    "    \n",
    "    \n",
    "    # Prepare tuples as input of multiprocessing \n",
    "    ts_tuples=create_ts_tuples_direct(sa, mndwi, msavi, wbi, rgm, grbm, tsmask)\n",
    "    \n",
    "    results = []\n",
    "    \n",
    "    # number of process for the  pool object\n",
    "    number_of_workers = 8\n",
    "    \n",
    "    # Create a Pool object with a number of processes\n",
    "    p = Pool(number_of_workers)\n",
    "    \n",
    "    print(\"Runing time series cloud and shadow detection for block(\", r1, r2, c1, c2, \")\")\n",
    "    # Start runing the cloud detection function using a pool of independent processes\n",
    "    results = p.starmap(perpixel_filter_direct_v2, ts_tuples)    \n",
    "    \n",
    " \n",
    "    p.close()\n",
    " \n",
    "   # number of rows\n",
    "    irow = tsmask.shape[1]\n",
    "\n",
    "    # number of columns\n",
    "    icol = tsmask.shape[2]\n",
    " \n",
    "    for y in np.arange(irow):\n",
    "        for x in np.arange(icol):\n",
    "            s2_ds[\"tsmask\"][:, r1+y, c1+x].values = results[y * icol + x]\n",
    "\n",
    "\n",
    "    \n",
    "\n",
    "     \n",
    "    del ts_tuples\n",
    "    del results\n",
    "    del sa\n",
    "    del mndwi \n",
    "    del msavi \n",
    "    del wbi \n",
    "    del rgm \n",
    "    del grbm \n",
    "    \n",
    "    \n",
    "\n",
    "    \n",
    "    return \n",
    "    \n",
    "   \n",
    "    \n",
    "    "
   ]
  },
  {
   "cell_type": "code",
   "execution_count": 6,
   "metadata": {},
   "outputs": [],
   "source": [
    "def create_ts_tuples_direct(sa, mndwi, msavi, wbi, rgm, grbm, tsmask):\n",
    "\n",
    "    \"\"\"\n",
    "\n",
    "    Function Name: create_ts_tuples\n",
    "\n",
    "    Description: \n",
    "    \n",
    "    This function creates a list of tuples of Sentinel-2 surface reflectance data, the list will \n",
    "    serve as the input when the Multiprocessing Pool method is called \n",
    "\n",
    "  \n",
    "    Parameters: \n",
    "    \n",
    "    s2_ds: Xarray dataset Object\n",
    "        the dataset containing dataarrays of time series surface reflectance data\n",
    "        \n",
    "    Return: \n",
    "    \n",
    "    a list of tuples of Sentinel-2 surface reflectance data\n",
    "\n",
    " \n",
    "    \"\"\"\n",
    "    # number of rows\n",
    "    irow = tsmask.shape[1]\n",
    "\n",
    "    # number of columns\n",
    "    icol = tsmask.shape[2]\n",
    "\n",
    "    # total number of pixels\n",
    "    pnum = irow * icol\n",
    "\n",
    "    ts_tuples = []\n",
    "\n",
    "    for i in np.arange(pnum):\n",
    "\n",
    "        y = int(i / icol)\n",
    "        x = i % icol\n",
    "\n",
    "        # copy time series spectral data from the data set, scale the data to float32, in range (0, 1.0)\n",
    "\n",
    "        ts_tuples.append((sa[:, y, x], mndwi[:, y, x], msavi[:, y, x], wbi[:, y, x], rgm[:, y, x], grbm[:, y, x], tsmask[:, y, x]))\n",
    "\n",
    "    return ts_tuples\n"
   ]
  },
  {
   "cell_type": "code",
   "execution_count": 7,
   "metadata": {},
   "outputs": [],
   "source": [
    "def perpixel_filter_direct_v2(sa, mndwi, msavi, wbi, rgm, grbm, tsmask):\n",
    "\n",
    "    \"\"\"\n",
    "\n",
    "    Function Name: perpixel_filter_direct\n",
    "\n",
    "    Description: \n",
    "    \n",
    "    This function performs time series cloud/shadow detection for one pixel\n",
    "  \n",
    "    Parameters: \n",
    "    \n",
    "    blue, green, red, nir, swir1, swir2: float, 1D arrays\n",
    "        Surface reflectance time series data of band blue, green, red, nir, swir1, swir2 for the pixel\n",
    "        \n",
    "    tsmask: float, 1D array\n",
    "        Cloud /shadow mask time series for the pixel\n",
    "    \n",
    "    Return:  \n",
    "    \n",
    "    Updated cloud/shadow mask time serie\n",
    "\n",
    " \n",
    "    \"\"\"\n",
    "\n",
    "    # detect single cloud / shadow pixels\n",
    "    tsf.testpair(sa, mndwi, 1, tsmask)\n",
    "    tsf.testpair(sa, mndwi, 1, tsmask)\n",
    "    tsf.testpair(sa, mndwi, 1, tsmask)\n",
    "\n",
    "    # detect 2 consecutive cloud / shadow pixels\n",
    "    tsf.testpair(sa, mndwi, 2, tsmask)\n",
    "    tsf.testpair(sa, mndwi, 2, tsmask)\n",
    "\n",
    "    # detect 3 consecutive cloud / shadow pixels\n",
    "    tsf.testpair(sa, mndwi, 3, tsmask)\n",
    "\n",
    "    # detect single cloud / shadow pixels\n",
    "    tsf.testpair(sa, mndwi, 1, tsmask)\n",
    "\n",
    "    # cloud shadow theshold\n",
    "    shdthd = 0.05\n",
    "\n",
    "    # mndwi water pixel theshold\n",
    "    dwithd = -0.05\n",
    "\n",
    "    # mndwi baregroud pixel theshold\n",
    "    landcloudthd = -0.38\n",
    "\n",
    "    # msavi water pixel theshold\n",
    "    avithd = 0.06\n",
    "\n",
    "    # mndwi water pixel theshold\n",
    "    wtdthd = -0.2\n",
    "\n",
    "    for i, lab in enumerate(tsmask):\n",
    "\n",
    "        if lab == 3 and mndwi[i] > dwithd and sa[i] < shdthd:  # water pixel, not shadow\n",
    "            tsmask[i] = 1\n",
    "\n",
    "        if lab == 2 and mndwi[i] < landcloudthd:  # bare ground, not cloud\n",
    "            tsmask[i] = 1\n",
    "\n",
    "        if (\n",
    "            lab == 3 and msavi[i] < avithd and mndwi[i] > wtdthd\n",
    "        ):  # water pixel, not shadow\n",
    "            tsmask[i] = 1\n",
    "\n",
    "        if (\n",
    "            lab == 1\n",
    "            and wbi[i] < -0.02\n",
    "            and rgm[i] > 0.06\n",
    "            and rgm[i] < 0.29\n",
    "            and mndwi[i] < -0.1\n",
    "            and grbm[i] < 0.2\n",
    "        ):  # thin cloud\n",
    "            tsmask[i] = 2\n",
    "\n",
    "    return tsmask\n"
   ]
  },
  {
   "cell_type": "code",
   "execution_count": 8,
   "metadata": {},
   "outputs": [],
   "source": [
    "def create_blocks(irow, icol, my, mx):\n",
    "    zy=int(irow/my)+1\n",
    "    zx=int(icol/mx)+1\n",
    "    \n",
    "    \n",
    "    blist=[]\n",
    "    \n",
    "    for i in np.arange(zy):\n",
    "        r1=i*my\n",
    "        r2=r1+my\n",
    "        if r2>irow:\n",
    "            r2=irow\n",
    "        for j in np.arange(zx):\n",
    "            oneblock=np.zeros(4, dtype=int)\n",
    "            c1=j*mx\n",
    "            c2=c1+mx\n",
    "            if (c2>icol):\n",
    "                c2=icol\n",
    "            \n",
    "            blist.append(np.array([r1, r2, c1, c2]))\n",
    "            \n",
    "    return blist"
   ]
  },
  {
   "cell_type": "code",
   "execution_count": 9,
   "metadata": {},
   "outputs": [
    {
     "name": "stdout",
     "output_type": "stream",
     "text": [
      "Loading S2 NBART time series surface reflectance data for block( 0 600 0 600 )\n"
     ]
    },
    {
     "name": "stderr",
     "output_type": "stream",
     "text": [
      "/g/data/v10/public/modules/dea-env/20200713/lib/python3.6/site-packages/ipykernel_launcher.py:57: RuntimeWarning: invalid value encountered in sqrt\n"
     ]
    },
    {
     "name": "stdout",
     "output_type": "stream",
     "text": [
      "Runing time series cloud and shadow detection for block( 0 600 0 600 )\n",
      "Loading S2 NBART time series surface reflectance data for block( 0 600 600 1200 )\n"
     ]
    },
    {
     "name": "stderr",
     "output_type": "stream",
     "text": [
      "/g/data/v10/public/modules/dea-env/20200713/lib/python3.6/site-packages/ipykernel_launcher.py:53: RuntimeWarning: divide by zero encountered in true_divide\n",
      "/g/data/v10/public/modules/dea-env/20200713/lib/python3.6/site-packages/ipykernel_launcher.py:57: RuntimeWarning: invalid value encountered in sqrt\n",
      "/g/data/v10/public/modules/dea-env/20200713/lib/python3.6/site-packages/ipykernel_launcher.py:70: RuntimeWarning: divide by zero encountered in true_divide\n"
     ]
    },
    {
     "name": "stdout",
     "output_type": "stream",
     "text": [
      "Runing time series cloud and shadow detection for block( 0 600 600 1200 )\n",
      "Loading S2 NBART time series surface reflectance data for block( 0 600 1200 1557 )\n",
      "Runing time series cloud and shadow detection for block( 0 600 1200 1557 )\n",
      "Loading S2 NBART time series surface reflectance data for block( 600 1200 0 600 )\n"
     ]
    },
    {
     "name": "stderr",
     "output_type": "stream",
     "text": [
      "/g/data/v10/public/modules/dea-env/20200713/lib/python3.6/site-packages/ipykernel_launcher.py:53: RuntimeWarning: divide by zero encountered in true_divide\n",
      "/g/data/v10/public/modules/dea-env/20200713/lib/python3.6/site-packages/ipykernel_launcher.py:57: RuntimeWarning: invalid value encountered in sqrt\n",
      "/g/data/v10/public/modules/dea-env/20200713/lib/python3.6/site-packages/ipykernel_launcher.py:70: RuntimeWarning: divide by zero encountered in true_divide\n"
     ]
    },
    {
     "name": "stdout",
     "output_type": "stream",
     "text": [
      "Runing time series cloud and shadow detection for block( 600 1200 0 600 )\n",
      "Loading S2 NBART time series surface reflectance data for block( 600 1200 600 1200 )\n"
     ]
    },
    {
     "name": "stderr",
     "output_type": "stream",
     "text": [
      "/g/data/v10/public/modules/dea-env/20200713/lib/python3.6/site-packages/ipykernel_launcher.py:53: RuntimeWarning: divide by zero encountered in true_divide\n",
      "/g/data/v10/public/modules/dea-env/20200713/lib/python3.6/site-packages/ipykernel_launcher.py:57: RuntimeWarning: invalid value encountered in sqrt\n",
      "/g/data/v10/public/modules/dea-env/20200713/lib/python3.6/site-packages/ipykernel_launcher.py:70: RuntimeWarning: divide by zero encountered in true_divide\n"
     ]
    },
    {
     "name": "stdout",
     "output_type": "stream",
     "text": [
      "Runing time series cloud and shadow detection for block( 600 1200 600 1200 )\n",
      "Loading S2 NBART time series surface reflectance data for block( 600 1200 1200 1557 )\n",
      "Runing time series cloud and shadow detection for block( 600 1200 1200 1557 )\n",
      "Loading S2 NBART time series surface reflectance data for block( 1200 1800 0 600 )\n"
     ]
    },
    {
     "name": "stderr",
     "output_type": "stream",
     "text": [
      "/g/data/v10/public/modules/dea-env/20200713/lib/python3.6/site-packages/ipykernel_launcher.py:53: RuntimeWarning: divide by zero encountered in true_divide\n",
      "/g/data/v10/public/modules/dea-env/20200713/lib/python3.6/site-packages/ipykernel_launcher.py:57: RuntimeWarning: invalid value encountered in sqrt\n",
      "/g/data/v10/public/modules/dea-env/20200713/lib/python3.6/site-packages/ipykernel_launcher.py:70: RuntimeWarning: divide by zero encountered in true_divide\n"
     ]
    },
    {
     "name": "stdout",
     "output_type": "stream",
     "text": [
      "Runing time series cloud and shadow detection for block( 1200 1800 0 600 )\n",
      "Loading S2 NBART time series surface reflectance data for block( 1200 1800 600 1200 )\n",
      "Runing time series cloud and shadow detection for block( 1200 1800 600 1200 )\n",
      "Loading S2 NBART time series surface reflectance data for block( 1200 1800 1200 1557 )\n",
      "Runing time series cloud and shadow detection for block( 1200 1800 1200 1557 )\n",
      "Loading S2 NBART time series surface reflectance data for block( 1800 2165 0 600 )\n"
     ]
    },
    {
     "name": "stderr",
     "output_type": "stream",
     "text": [
      "/g/data/v10/public/modules/dea-env/20200713/lib/python3.6/site-packages/ipykernel_launcher.py:57: RuntimeWarning: invalid value encountered in sqrt\n",
      "/g/data/v10/public/modules/dea-env/20200713/lib/python3.6/site-packages/ipykernel_launcher.py:70: RuntimeWarning: divide by zero encountered in true_divide\n"
     ]
    },
    {
     "name": "stdout",
     "output_type": "stream",
     "text": [
      "Runing time series cloud and shadow detection for block( 1800 2165 0 600 )\n",
      "Loading S2 NBART time series surface reflectance data for block( 1800 2165 600 1200 )\n",
      "Runing time series cloud and shadow detection for block( 1800 2165 600 1200 )\n",
      "Loading S2 NBART time series surface reflectance data for block( 1800 2165 1200 1557 )\n",
      "Runing time series cloud and shadow detection for block( 1800 2165 1200 1557 )\n"
     ]
    }
   ],
   "source": [
    "irow=tg_ds['y'].size\n",
    "icol=tg_ds['x'].size\n",
    "\n",
    "my=600\n",
    "mx=600\n",
    "\n",
    "blist=create_blocks(irow, icol, my, mx)\n",
    "\n",
    "for block in blist:\n",
    "      \n",
    "    tsmask_filter_block(tg_ds, block)\n"
   ]
  },
  {
   "cell_type": "code",
   "execution_count": 10,
   "metadata": {},
   "outputs": [
    {
     "data": {
      "text/plain": [
       "[array([  0, 600,   0, 600]),\n",
       " array([   0,  600,  600, 1200]),\n",
       " array([   0,  600, 1200, 1557]),\n",
       " array([ 600, 1200,    0,  600]),\n",
       " array([ 600, 1200,  600, 1200]),\n",
       " array([ 600, 1200, 1200, 1557]),\n",
       " array([1200, 1800,    0,  600]),\n",
       " array([1200, 1800,  600, 1200]),\n",
       " array([1200, 1800, 1200, 1557]),\n",
       " array([1800, 2165,    0,  600]),\n",
       " array([1800, 2165,  600, 1200]),\n",
       " array([1800, 2165, 1200, 1557])]"
      ]
     },
     "execution_count": 10,
     "metadata": {},
     "output_type": "execute_result"
    }
   ],
   "source": [
    "blist\n"
   ]
  },
  {
   "cell_type": "code",
   "execution_count": 11,
   "metadata": {},
   "outputs": [
    {
     "name": "stdout",
     "output_type": "stream",
     "text": [
      "CPU times: user 6.4 s, sys: 4.99 s, total: 11.4 s\n",
      "Wall time: 17min 24s\n"
     ]
    }
   ],
   "source": [
    "%%time\n",
    "\n",
    "results = []\n",
    "\n",
    "# number of process for the  pool object\n",
    "number_of_workers = 8\n",
    "# Create a Pool object with a number of processes\n",
    "p = Pool(number_of_workers)\n",
    "\n",
    "# create a list of scene\n",
    "paralist = [tg_ds[\"tsmask\"].values[i, :, :] for i in np.arange(tg_ds.time.size)]\n",
    "# Start runing the spatial filter function using a pool of indepedent processes\n",
    "results = p.map(tsf.spatial_filter, paralist)\n",
    "# Finish the parallel runs\n",
    "p.close()\n",
    "# Join the results and put them back in the correct order\n",
    "p.join()\n",
    "\n",
    "\n",
    "# Save the cloud/shadow masks to the 'tsmask' dataarray in the s2_ds dataset\n",
    "for i in np.arange(tg_ds.time.size):\n",
    "    tg_ds[\"tsmask\"].values[i, :, :] = results[i]"
   ]
  },
  {
   "cell_type": "code",
   "execution_count": 12,
   "metadata": {},
   "outputs": [],
   "source": [
    "bandsets=['tsmask']\n",
    "outbandnames=['tsmask']\n",
    "dirc='/g/data/u46/pjt554/tsmask_validation_data/simpson'\n",
    "loc_str='simpson'\n",
    "tsf.output_ds_to_cog(bandsets, outbandnames, dirc, loc_str, tg_ds)"
   ]
  },
  {
   "cell_type": "code",
   "execution_count": 13,
   "metadata": {},
   "outputs": [
    {
     "name": "stdout",
     "output_type": "stream",
     "text": [
      "BoundingBox(left=438220.0, bottom=-2725640.0, right=469360.0, top=-2682340.0)\n",
      "EPSG:3577\n"
     ]
    },
    {
     "data": {
      "text/plain": [
       "(438220.0, -2682340.0)"
      ]
     },
     "execution_count": 13,
     "metadata": {},
     "output_type": "execute_result"
    }
   ],
   "source": [
    "testfile=dirc+'/simpson_tsmask_2017-10-10.tif'\n",
    "onemask=rasterio.open(testfile)\n",
    "aa = onemask.read()\n",
    "print(onemask.bounds)\n",
    "print(onemask.crs)\n",
    "onemask.transform*(0,0)"
   ]
  },
  {
   "cell_type": "code",
   "execution_count": 14,
   "metadata": {},
   "outputs": [
    {
     "name": "stdout",
     "output_type": "stream",
     "text": [
      "<xarray.DataArray 'tsmask' (time: 542)>\n",
      "array([1, 1, 1, 1, 1, 1, 1, 1, 1, 1, 1, 1, 1, 1, 1, 1, 1, 1, 1, 1, 1, 1,\n",
      "       1, 2, 2, 1, 1, 1, 1, 1, 1, 1, 1, 1, 1, 1, 1, 1, 1, 1, 1, 1, 1, 1,\n",
      "       1, 2, 1, 1, 1, 1, 1, 1, 1, 1, 1, 1, 1, 1, 1, 2, 1, 1, 1, 1, 1, 1,\n",
      "       1, 1, 1, 1, 1, 1, 1, 1, 1, 1, 1, 1, 1, 1, 1, 1, 1, 1, 1, 1, 1, 1,\n",
      "       1, 1, 1, 1, 1, 1, 1, 1, 1, 1, 1, 1, 1, 1, 1, 1, 1, 1, 1, 1, 1, 1,\n",
      "       1, 1, 1, 1, 1, 1, 1, 1, 1, 1, 1, 1, 1, 1, 1, 1, 1, 1, 1, 1, 1, 1,\n",
      "       2, 1, 1, 1, 1, 1, 1, 1, 1, 1, 1, 2, 1, 1, 1, 1, 1, 1, 1, 1, 1, 1,\n",
      "       1, 1, 1, 1, 1, 1, 1, 1, 1, 1, 1, 1, 1, 1, 1, 1, 1, 1, 1, 1, 1, 1,\n",
      "       1, 1, 1, 1, 1, 1, 1, 1, 1, 1, 1, 1, 1, 1, 1, 1, 1, 1, 1, 1, 1, 1,\n",
      "       1, 1, 1, 1, 1, 1, 1, 1, 1, 1, 1, 1, 1, 1, 1, 1, 1, 1, 1, 1, 1, 1,\n",
      "       1, 1, 1, 1, 1, 1, 2, 1, 1, 1, 1, 1, 1, 1, 1, 1, 1, 1, 1, 1, 1, 1,\n",
      "       1, 1, 1, 1, 1, 1, 1, 1, 1, 1, 1, 2, 1, 1, 1, 1, 1, 1, 1, 1, 1, 1,\n",
      "       1, 1, 1, 1, 1, 2, 1, 1, 1, 1, 1, 1, 1, 1, 1, 1, 1, 1, 1, 1, 1, 1,\n",
      "       1, 1, 1, 1, 1, 1, 1, 1, 1, 1, 1, 1, 1, 1, 1, 1, 1, 1, 1, 1, 1, 1,\n",
      "       1, 1, 1, 1, 1, 1, 2, 1, 1, 1, 1, 1, 1, 1, 1, 1, 1, 1, 1, 1, 1, 1,\n",
      "       1, 1, 1, 1, 1, 1, 1, 1, 1, 1, 1, 1, 1, 1, 1, 1, 1, 1, 1, 1, 1, 1,\n",
      "       1, 1, 1, 1, 1, 1, 1, 1, 1, 1, 1, 1, 1, 1, 1, 1, 1, 1, 1, 1, 1, 1,\n",
      "       1, 1, 1, 1, 1, 1, 1, 1, 1, 1, 1, 1, 1, 2, 1, 1, 1, 1, 1, 1, 1, 1,\n",
      "       1, 1, 1, 1, 1, 1, 1, 1, 1, 1, 1, 1, 1, 1, 1, 1, 1, 1, 1, 1, 1, 1,\n",
      "       1, 1, 1, 1, 1, 1, 1, 1, 1, 1, 1, 1, 1, 1, 1, 1, 1, 1, 2, 1, 1, 2,\n",
      "       1, 1, 1, 1, 1, 1, 1, 1, 1, 1, 1, 1, 1, 1, 1, 1, 1, 1, 1, 1, 1, 1,\n",
      "       1, 1, 1, 1, 1, 1, 1, 1, 1, 1, 1, 1, 1, 1, 1, 1, 1, 1, 1, 2, 1, 1,\n",
      "       1, 1, 1, 1, 1, 1, 1, 1, 1, 1, 1, 1, 1, 1, 1, 1, 1, 1, 1, 1, 1, 1,\n",
      "       1, 1, 1, 1, 1, 1, 1, 1, 1, 1, 1, 1, 1, 1, 1, 1, 1, 1, 1, 1, 1, 1,\n",
      "       1, 1, 1, 1, 1, 1, 1, 1, 1, 1, 1, 1, 1, 1], dtype=uint8)\n",
      "Coordinates:\n",
      "  * time         (time) datetime64[ns] 2015-08-12T01:01:32.459000 ... 2020-10...\n",
      "    y            float64 -2.683e+06\n",
      "    x            float64 4.383e+05\n",
      "    spatial_ref  int32 3577\n",
      "Attributes:\n",
      "    units:                1\n",
      "    nodata:               -999\n",
      "    spectral_definition:  {'response': [0.001206, 0.00204, 0.002623, 0.002738...\n",
      "    crs:                  EPSG:3577\n",
      "    grid_mapping:         spatial_ref\n",
      "<xarray.DataArray 'tsmask' (time: 542)>\n",
      "array([1, 1, 1, 1, 1, 1, 1, 1, 1, 1, 1, 1, 1, 1, 1, 1, 1, 1, 1, 2, 1, 1,\n",
      "       1, 1, 1, 1, 1, 1, 1, 1, 1, 1, 1, 1, 1, 1, 1, 1, 1, 1, 1, 1, 1, 2,\n",
      "       1, 1, 1, 1, 1, 1, 1, 1, 1, 1, 1, 1, 1, 1, 1, 2, 1, 1, 1, 1, 1, 1,\n",
      "       1, 1, 1, 1, 1, 1, 1, 1, 1, 1, 1, 1, 1, 1, 1, 1, 1, 1, 1, 1, 1, 1,\n",
      "       1, 1, 1, 1, 1, 1, 1, 1, 1, 1, 1, 1, 1, 1, 1, 1, 1, 1, 1, 1, 1, 1,\n",
      "       1, 1, 1, 1, 1, 1, 1, 1, 1, 1, 1, 1, 1, 1, 1, 1, 1, 1, 1, 1, 1, 1,\n",
      "       2, 1, 1, 1, 1, 1, 1, 1, 1, 1, 1, 1, 1, 1, 1, 1, 2, 1, 1, 1, 1, 1,\n",
      "       1, 1, 1, 1, 1, 1, 1, 1, 1, 1, 1, 1, 1, 1, 1, 1, 1, 1, 1, 1, 1, 1,\n",
      "       1, 1, 1, 1, 1, 1, 1, 1, 1, 1, 1, 1, 1, 1, 1, 1, 1, 1, 1, 1, 1, 1,\n",
      "       1, 1, 1, 1, 1, 1, 1, 1, 1, 1, 1, 1, 1, 1, 1, 1, 1, 1, 1, 1, 1, 1,\n",
      "       1, 1, 1, 1, 1, 1, 2, 1, 1, 1, 1, 1, 1, 1, 1, 1, 1, 1, 1, 1, 1, 1,\n",
      "       1, 1, 1, 1, 1, 1, 1, 1, 1, 1, 1, 1, 1, 1, 1, 1, 1, 1, 1, 1, 1, 2,\n",
      "       1, 1, 1, 1, 1, 2, 1, 1, 1, 1, 1, 1, 1, 1, 1, 1, 1, 1, 1, 1, 1, 1,\n",
      "       1, 1, 1, 1, 1, 1, 1, 1, 1, 1, 1, 1, 1, 1, 1, 1, 1, 1, 1, 1, 1, 1,\n",
      "       1, 1, 1, 1, 1, 1, 2, 1, 1, 1, 1, 1, 1, 1, 1, 1, 1, 1, 1, 1, 1, 1,\n",
      "       2, 1, 1, 1, 1, 1, 1, 1, 1, 1, 1, 1, 1, 1, 1, 1, 1, 1, 1, 1, 1, 1,\n",
      "       1, 1, 1, 1, 1, 1, 1, 1, 1, 1, 1, 1, 1, 1, 1, 1, 1, 1, 1, 1, 1, 1,\n",
      "       1, 1, 1, 1, 1, 1, 1, 1, 1, 1, 1, 1, 1, 1, 1, 1, 1, 1, 1, 1, 1, 1,\n",
      "       1, 1, 1, 1, 1, 1, 1, 1, 1, 1, 1, 1, 1, 1, 1, 1, 1, 1, 1, 1, 1, 1,\n",
      "       1, 1, 1, 1, 1, 1, 1, 1, 1, 1, 1, 1, 1, 1, 1, 1, 1, 1, 2, 1, 1, 2,\n",
      "       2, 1, 1, 1, 1, 1, 1, 1, 1, 1, 1, 1, 1, 1, 1, 1, 1, 1, 1, 1, 1, 1,\n",
      "       1, 1, 1, 1, 1, 1, 1, 1, 1, 1, 1, 1, 1, 1, 1, 1, 1, 1, 1, 1, 1, 1,\n",
      "       1, 1, 1, 1, 1, 1, 1, 1, 1, 1, 1, 1, 1, 1, 1, 1, 1, 1, 1, 1, 1, 1,\n",
      "       1, 1, 1, 2, 1, 1, 1, 1, 1, 1, 1, 1, 1, 1, 1, 1, 1, 1, 1, 1, 1, 1,\n",
      "       1, 1, 1, 1, 1, 1, 1, 1, 1, 1, 1, 1, 1, 1], dtype=uint8)\n",
      "Coordinates:\n",
      "  * time         (time) datetime64[ns] 2015-08-12T01:01:32.459000 ... 2020-10...\n",
      "    y            float64 -2.683e+06\n",
      "    x            float64 4.393e+05\n",
      "    spatial_ref  int32 3577\n",
      "Attributes:\n",
      "    units:                1\n",
      "    nodata:               -999\n",
      "    spectral_definition:  {'response': [0.001206, 0.00204, 0.002623, 0.002738...\n",
      "    crs:                  EPSG:3577\n",
      "    grid_mapping:         spatial_ref\n"
     ]
    }
   ],
   "source": [
    "print(tg_ds['tsmask'][:,53, 3])\n",
    "\n",
    "print(tg_ds['tsmask'][:, 53, 53])"
   ]
  },
  {
   "cell_type": "code",
   "execution_count": null,
   "metadata": {},
   "outputs": [],
   "source": []
  }
 ],
 "metadata": {
  "kernelspec": {
   "display_name": "Python 3",
   "language": "python",
   "name": "python3"
  },
  "language_info": {
   "codemirror_mode": {
    "name": "ipython",
    "version": 3
   },
   "file_extension": ".py",
   "mimetype": "text/x-python",
   "name": "python",
   "nbconvert_exporter": "python",
   "pygments_lexer": "ipython3",
   "version": "3.6.10"
  }
 },
 "nbformat": 4,
 "nbformat_minor": 4
}
