{
 "cells": [
  {
   "cell_type": "markdown",
   "metadata": {},
   "source": [
    "# Time Serise Algorithm for Sentinel-2 Cloud Mask\n",
    "\n",
    "## Overview\n",
    "This product is a time series cloud and cloud shadow detection algorithm for Sentinel-2 surface reflectance data.It models time series of surface reflectance derived indices and calculates time series abnormality coefficients for pixels in the time series. It does not rely on predefined training data to generate complex models with many rule sets, which often work well for data similar to the training data while returning poor results for data contrasting to the training data. Instead, it identifies cloud and cloud shadows by detecting local abnormalities in temporal and spatial contexts from abnormality coefficients.\n",
    "\n",
    "\n",
    "## Required Modules \n",
    "\n",
    "### DEA modules\n",
    "\n",
    "\n",
    "The program requires functions in DEA Datacube API. To load DEA module, open a terminal and run following commands: \n",
    "\n",
    "`module use /g/data/v10/public/modules/modulefiles`\n",
    "\n",
    "`module load dea`\n",
    "\n",
    "### Other Python modules \n",
    "\n",
    "\n",
    "## Input Data\n",
    "\n",
    "\n",
    "\n",
    "## Workflow and Functions of the Program  \n",
    "\n",
    "### Data loading\n",
    "\n",
    "\n",
    "\n",
    "\n",
    "### Cloud and Cloud shadow detection\n",
    "\n",
    "\n",
    "\n",
    "## Output Data\n",
    "\n",
    "The program produces a cloud mask data with the same dimension as the input time series data\n",
    "\n",
    "\n",
    "\n",
    "\n",
    "\n"
   ]
  },
  {
   "cell_type": "markdown",
   "metadata": {},
   "source": [
    "**Function ID: F** \n",
    "\n",
    "**Function Name:**\n",
    "\n",
    "**Description:** \n",
    "\n",
    "\n",
    "This is the template for function description\n",
    "\n",
    "**Input:**\n",
    "\n",
    "**Return:**\n",
    "\n",
    "**called by:**\n"
   ]
  },
  {
   "cell_type": "code",
   "execution_count": null,
   "metadata": {},
   "outputs": [],
   "source": []
  },
  {
   "cell_type": "code",
   "execution_count": null,
   "metadata": {},
   "outputs": [],
   "source": []
  },
  {
   "cell_type": "markdown",
   "metadata": {},
   "source": [
    "**Function ID: F1** \n",
    "\n",
    "**Function Name:**\n",
    "\n",
    "**Description:** \n",
    "\n",
    "\n",
    "This function load selected Sentinel-2 Surface reflectance data. The spatial coverage is specfied by a rectangle bounding box. The temporal coverage is specified by the start date and the end date of the time series data\n",
    "\n",
    "**Input:**\n",
    "\n",
    "The lat./Lon. of the top-left and bottom-right corners of a b \n",
    "\n",
    "**Return:**\n",
    "\n",
    "**called by:**\n"
   ]
  },
  {
   "cell_type": "code",
   "execution_count": null,
   "metadata": {},
   "outputs": [],
   "source": []
  },
  {
   "cell_type": "markdown",
   "metadata": {},
   "source": [
    "**Function ID: F2** \n",
    "\n",
    "**Function Name:**\n",
    "\n",
    "**Description:** \n",
    "\n",
    "\n",
    "This function load pre-saved Sentinel-2 Surface reflectance data, specified by the name of the data file\n",
    "\n",
    "**Input:**\n",
    "\n",
    "**Return:**\n",
    "\n",
    "**called by:**\n",
    "\n",
    "\n"
   ]
  },
  {
   "cell_type": "code",
   "execution_count": null,
   "metadata": {},
   "outputs": [],
   "source": []
  },
  {
   "cell_type": "markdown",
   "metadata": {},
   "source": [
    "**Function ID: F3** \n",
    "\n",
    "**Function Name:**\n",
    "\n",
    "**Description:** \n",
    "\n",
    "\n",
    "This function detect cloud and cloud shadows using time series of Sentinel-2 surface reflectance data\n",
    "\n",
    "\n",
    "\n",
    "\n",
    "**Input:**\n",
    "\n",
    "**Return:**\n",
    "\n",
    "**called by:**\n"
   ]
  },
  {
   "cell_type": "code",
   "execution_count": null,
   "metadata": {},
   "outputs": [],
   "source": []
  },
  {
   "cell_type": "code",
   "execution_count": null,
   "metadata": {},
   "outputs": [],
   "source": [
    "## Main program\n",
    "\n",
    "## Import modules \n",
    "\n",
    "## Specify input parameters\n",
    "\n",
    "## Load surface reflectance data\n",
    "\n",
    "## Call F1 or F2\n",
    "\n",
    "\n",
    "## Divide the whole data into small chunks, use xarray new(v0.16) map_block function\n",
    "## \n",
    "\n",
    "\n",
    "## Call time series cloud / shadow detection for each chunk  \n",
    "\n",
    "\n",
    "\n",
    "## Apply spatial cloud filter\n",
    "\n",
    "\n",
    "## Output cloud/shadow mask results\n",
    "\n",
    "\n",
    "\n",
    "\n",
    "## End Main program\n"
   ]
  },
  {
   "cell_type": "code",
   "execution_count": null,
   "metadata": {},
   "outputs": [],
   "source": [
    "## Function Id: F1\n",
    "## Description:\n",
    "## Input:\n",
    "## Return:\n",
    "## Called by:\n"
   ]
  },
  {
   "cell_type": "code",
   "execution_count": null,
   "metadata": {},
   "outputs": [],
   "source": [
    "## Function Id: F1\n",
    "## Description:\n",
    "## Input:\n",
    "## Return:\n",
    "## Called by:\n"
   ]
  },
  {
   "cell_type": "code",
   "execution_count": null,
   "metadata": {},
   "outputs": [],
   "source": [
    "## Function Id: F1\n",
    "## Description:\n",
    "## Input:\n",
    "## Return:\n",
    "## Called by:\n"
   ]
  },
  {
   "cell_type": "code",
   "execution_count": null,
   "metadata": {},
   "outputs": [],
   "source": []
  },
  {
   "cell_type": "code",
   "execution_count": null,
   "metadata": {},
   "outputs": [],
   "source": []
  },
  {
   "cell_type": "code",
   "execution_count": null,
   "metadata": {},
   "outputs": [],
   "source": []
  },
  {
   "cell_type": "code",
   "execution_count": null,
   "metadata": {},
   "outputs": [],
   "source": []
  },
  {
   "cell_type": "code",
   "execution_count": null,
   "metadata": {},
   "outputs": [],
   "source": []
  },
  {
   "cell_type": "code",
   "execution_count": null,
   "metadata": {},
   "outputs": [],
   "source": []
  },
  {
   "cell_type": "code",
   "execution_count": null,
   "metadata": {},
   "outputs": [],
   "source": []
  }
 ],
 "metadata": {
  "kernelspec": {
   "display_name": "Python 3",
   "language": "python",
   "name": "python3"
  },
  "language_info": {
   "codemirror_mode": {
    "name": "ipython",
    "version": 3
   },
   "file_extension": ".py",
   "mimetype": "text/x-python",
   "name": "python",
   "nbconvert_exporter": "python",
   "pygments_lexer": "ipython3",
   "version": "3.6.10"
  },
  "toc": {
   "base_numbering": 1,
   "nav_menu": {},
   "number_sections": true,
   "sideBar": true,
   "skip_h1_title": false,
   "title_cell": "Table of Contents",
   "title_sidebar": "Contents",
   "toc_cell": false,
   "toc_position": {},
   "toc_section_display": true,
   "toc_window_display": false
  }
 },
 "nbformat": 4,
 "nbformat_minor": 4
}
