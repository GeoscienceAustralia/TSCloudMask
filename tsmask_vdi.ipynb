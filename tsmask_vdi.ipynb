{
 "cells": [
  {
   "cell_type": "markdown",
   "metadata": {},
   "source": [
    "# Time Serise Algorithm for Sentinel-2 Cloud Mask\n",
    "\n",
    "## Overview\n",
    "This product is a time series cloud and cloud shadow detection algorithm for Sentinel-2 surface reflectance data.It models time series of surface reflectance derived indices and calculates time series abnormality coefficients for pixels in the time series. It does not rely on predefined training data to generate complex models with many rule sets, which often work well for data similar to the training data while returning poor results for data contrasting to the training data. Instead, it identifies cloud and cloud shadows by detecting local abnormalities in temporal and spatial contexts from abnormality coefficients.\n"
   ]
  },
  {
   "cell_type": "markdown",
   "metadata": {},
   "source": [
    "\n",
    "## Required Modules \n",
    "\n",
    "### DEA modules\n",
    "\n",
    "\n",
    "The notebook requires functions in DEA Datacube API. To load DEA module, open a terminal and run following commands: \n",
    "\n",
    "`module use /g/data/v10/public/modules/modulefiles`\n",
    "\n",
    "`module load dea`\n",
    "\n",
    "### Other Python modules \n",
    "\n",
    "DEADataHandling is a module written by scientists and engineers from DEA teams. The module consists of a number of wrapper functions to handle various DEA datasets. The module can be download at https://github.com/GeoscienceAustralia/dea-notebooks. \n",
    "\n",
    "tsmask_func is a module for functions used in this notebook"
   ]
  },
  {
   "cell_type": "code",
   "execution_count": 30,
   "metadata": {},
   "outputs": [
    {
     "name": "stdout",
     "output_type": "stream",
     "text": [
      "The autoreload extension is already loaded. To reload it, use:\n",
      "  %reload_ext autoreload\n"
     ]
    }
   ],
   "source": [
    "## Start Main program\n",
    "\n",
    "%load_ext autoreload\n",
    "%autoreload 2\n",
    "\n",
    "## Import modules \n",
    "\n",
    "import datacube\n",
    "import sys\n",
    "import numpy as np\n",
    "#import time\n",
    "import os\n",
    "#import rasterio\n",
    "#import xarray as xr\n",
    "\n",
    "\n",
    "from multiprocessing import Pool \n",
    "#import rasterio\n",
    "#from spectral import envi\n",
    "import tsmask_func as tsf\n"
   ]
  },
  {
   "cell_type": "markdown",
   "metadata": {},
   "source": [
    "\n",
    "\n",
    "## Workflow of the Program  \n",
    "\n",
    "### Specify input parameters"
   ]
  },
  {
   "cell_type": "code",
   "execution_count": 31,
   "metadata": {},
   "outputs": [],
   "source": [
    "## Specify input parameters\n",
    "\n",
    "#lat_top, lat_bottom, lon_left, lon_right =  -35.144, -35.505, 148.985, 149.284\n",
    "lat_top, lat_bottom, lon_left, lon_right =  -35.244, -35.344, 149.055, 149.155\n",
    "start_of_epoch, end_of_epoch = '2017-01-01', '2018-12-31'\n",
    "  \n"
   ]
  },
  {
   "cell_type": "markdown",
   "metadata": {},
   "source": [
    "### Data loading\n",
    "\n",
    "Load Sentinel-2 NBART time series data in 20m x 20m resolution. save it to a Xarray dataset, create tsmask dataarray  \n"
   ]
  },
  {
   "cell_type": "code",
   "execution_count": 32,
   "metadata": {},
   "outputs": [
    {
     "name": "stdout",
     "output_type": "stream",
     "text": [
      "Loading s2a pixel quality\n",
      "    Loading 70 filtered s2a timesteps\n",
      "Loading s2b pixel quality\n",
      "    Loading 54 filtered s2b timesteps\n",
      "Combining and sorting s2a, s2b data\n"
     ]
    }
   ],
   "source": [
    "# Load surface reflectance data\n",
    "\n",
    "dc = datacube.Datacube(app='load_clearsentinel')\n",
    "\n",
    "\n",
    "# Call Function F1\n",
    "# Load Sentinel-2 data \n",
    "\n",
    "s2_ds = tsf.load_s2_nbart_ts(dc, lat_top, lat_bottom, lon_left, lon_right, start_of_epoch, end_of_epoch)\n",
    "\n"
   ]
  },
  {
   "cell_type": "markdown",
   "metadata": {},
   "source": [
    "\n",
    "### Time Series Cloud and Cloud shadow detection\n",
    "\n",
    "Perform time series cloud/shadow detection for one pixel. \n",
    "\n",
    "\n"
   ]
  },
  {
   "cell_type": "code",
   "execution_count": 33,
   "metadata": {},
   "outputs": [
    {
     "name": "stderr",
     "output_type": "stream",
     "text": [
      "/g/data1a/u46/pjt554/TSCloudMask/tsmask_func.py:257: RuntimeWarning: invalid value encountered in sqrt\n",
      "  \n",
      "/g/data1a/u46/pjt554/TSCloudMask/tsmask_func.py:257: RuntimeWarning: invalid value encountered in sqrt\n",
      "  \n",
      "/g/data1a/u46/pjt554/TSCloudMask/tsmask_func.py:257: RuntimeWarning: invalid value encountered in sqrt\n",
      "  \n",
      "/g/data1a/u46/pjt554/TSCloudMask/tsmask_func.py:257: RuntimeWarning: invalid value encountered in sqrt\n",
      "  \n",
      "/g/data1a/u46/pjt554/TSCloudMask/tsmask_func.py:257: RuntimeWarning: invalid value encountered in sqrt\n",
      "  \n",
      "/g/data1a/u46/pjt554/TSCloudMask/tsmask_func.py:257: RuntimeWarning: invalid value encountered in sqrt\n",
      "  \n",
      "/g/data1a/u46/pjt554/TSCloudMask/tsmask_func.py:257: RuntimeWarning: invalid value encountered in sqrt\n",
      "  \n",
      "/g/data1a/u46/pjt554/TSCloudMask/tsmask_func.py:257: RuntimeWarning: invalid value encountered in sqrt\n",
      "  \n",
      "/g/data1a/u46/pjt554/TSCloudMask/tsmask_func.py:254: RuntimeWarning: divide by zero encountered in true_divide\n",
      "  \n",
      "/g/data1a/u46/pjt554/TSCloudMask/tsmask_func.py:254: RuntimeWarning: divide by zero encountered in true_divide\n",
      "  \n",
      "/g/data1a/u46/pjt554/TSCloudMask/tsmask_func.py:254: RuntimeWarning: divide by zero encountered in true_divide\n",
      "  \n",
      "/g/data1a/u46/pjt554/TSCloudMask/tsmask_func.py:254: RuntimeWarning: divide by zero encountered in true_divide\n",
      "  \n",
      "/g/data1a/u46/pjt554/TSCloudMask/tsmask_func.py:254: RuntimeWarning: divide by zero encountered in true_divide\n",
      "  \n",
      "/g/data1a/u46/pjt554/TSCloudMask/tsmask_func.py:254: RuntimeWarning: divide by zero encountered in true_divide\n",
      "  \n"
     ]
    },
    {
     "name": "stdout",
     "output_type": "stream",
     "text": [
      "CPU times: user 3min 15s, sys: 3.33 s, total: 3min 18s\n",
      "Wall time: 26min 36s\n"
     ]
    }
   ],
   "source": [
    "%%time\n",
    "\n",
    "# create a list of tuples as input of the cloud detection functions\n",
    "# startmap method of the Pool class from Multiprocessing module requires an ierative object for function parameters\n",
    "\n",
    "ts_tuples = tsf.create_ts_tuples(s2_ds)\n",
    "\n",
    "results=[]\n",
    "\n",
    "# number of process for the  pool object\n",
    "number_of_workers=8\n",
    "# Create a Pool object with a number of processes\n",
    "p=Pool(number_of_workers)\n",
    "# Start runing the cloud detection function using a pool of independent processes\n",
    "results=p.starmap(tsf.perpixel_filter_direct, ts_tuples)\n",
    "# Finish the parallel runs\n",
    "p.close()\n",
    "# Join the results and put them back in the correct order\n",
    "p.join()\n",
    "\n",
    "# Save the cloud/shadow masks to the 'tsmask' dataarray in the s2_ds dataset\n",
    "irow = s2_ds['y'].size\n",
    "icol = s2_ds['x'].size\n",
    "for y in np.arange(irow):\n",
    "    for x in np.arange(icol):\n",
    "        s2_ds['tsmask'].values[:, y, x]=results[y*icol+x]"
   ]
  },
  {
   "cell_type": "markdown",
   "metadata": {},
   "source": [
    "### Spatial Filter\n",
    "\n",
    "Filter out isolated / single cloud and shadow pixels. \n"
   ]
  },
  {
   "cell_type": "code",
   "execution_count": 34,
   "metadata": {},
   "outputs": [
    {
     "name": "stdout",
     "output_type": "stream",
     "text": [
      "CPU times: user 227 ms, sys: 1.34 s, total: 1.56 s\n",
      "Wall time: 1min 16s\n"
     ]
    }
   ],
   "source": [
    "%%time\n",
    "\n",
    "results=[]\n",
    "\n",
    "# number of process for the  pool object\n",
    "number_of_workers=8\n",
    "# Create a Pool object with a number of processes\n",
    "p=Pool(number_of_workers)\n",
    "\n",
    "#create a list of scene\n",
    "paralist=[ s2_ds['tsmask'].values[i, :, :] for i in np.arange(s2_ds.time.size)]\n",
    "# Start runing the spatial filter function using a pool of indepedent processes\n",
    "results=p.map(tsf.spatial_filter, paralist)\n",
    "# Finish the parallel runs\n",
    "p.close()\n",
    "# Join the results and put them back in the correct order\n",
    "p.join()\n",
    "\n",
    "\n",
    "# Save the cloud/shadow masks to the 'tsmask' dataarray in the s2_ds dataset\n",
    "for i in np.arange(s2_ds.time.size):\n",
    "    s2_ds['tsmask'].values[i, :, :] = results[i]"
   ]
  },
  {
   "cell_type": "markdown",
   "metadata": {},
   "source": [
    "### Spatial Buffer\n",
    "\n",
    "The program calls Function F3 to extend cloud/shadow detection coverage by one pixel buffers \n"
   ]
  },
  {
   "cell_type": "code",
   "execution_count": 35,
   "metadata": {},
   "outputs": [
    {
     "name": "stdout",
     "output_type": "stream",
     "text": [
      "CPU times: user 122 ms, sys: 708 ms, total: 830 ms\n",
      "Wall time: 41.3 s\n"
     ]
    }
   ],
   "source": [
    "%%time\n",
    "\n",
    "results=[]\n",
    "\n",
    "# number of process for the  pool object\n",
    "number_of_workers=8\n",
    "# Create a Pool object with a number of processes\n",
    "p=Pool(number_of_workers)\n",
    "\n",
    "# Create a list of scene\n",
    "paralist=[ s2_ds['tsmask'].values[i, :, :] for i in np.arange(s2_ds.time.size)]\n",
    "# Start runing the spatial_buffer function using a pool of indepedent processes\n",
    "results=p.map(tsf.spatial_buffer, paralist)\n",
    "# Finish the parallel runs\n",
    "p.close()\n",
    "# Join the results and put them back in the correct order\n",
    "p.join()\n",
    "\n",
    "# Save the cloud/shadow masks to the 'tsmask' dataarray in the s2_ds dataset\n",
    "for i in np.arange(s2_ds.time.size):\n",
    "    s2_ds['tsmask'].values[i, :, :] = results[i]\n"
   ]
  },
  {
   "cell_type": "markdown",
   "metadata": {},
   "source": [
    "### Output Data\n",
    "\n",
    "The program produces a cloud mask data with the same dimension as the input time series data,a Sentinel-2 pixel is calsiified as one of four distinctive categories:\n",
    " \n",
    "\n",
    "No observation ---> 0\n",
    "Clear ---> 1\n",
    "Cloud ---> 2\n",
    "Cloud shadow ---> 3\n",
    "\n",
    "\n",
    "The S2 NBARt time series and tsmask are saved as ENVI images and NetCDF files. "
   ]
  },
  {
   "cell_type": "code",
   "execution_count": 39,
   "metadata": {},
   "outputs": [],
   "source": [
    "# Eliminate invalid attribute values\n",
    "\n",
    "for key, variable in s2_ds.variables.items():\n",
    "    if 'spectral_definition' in variable.attrs:\n",
    "        del variable.attrs['spectral_definition']"
   ]
  },
  {
   "cell_type": "code",
   "execution_count": 40,
   "metadata": {},
   "outputs": [],
   "source": [
    "## Output spectral data and tsmask as NetCDF file\n",
    "\n",
    "dirc='/g/data/u46/pjt554/tmp/canberra-buffer.nc'\n",
    "s2_ds.to_netcdf(dirc)"
   ]
  },
  {
   "cell_type": "code",
   "execution_count": 41,
   "metadata": {},
   "outputs": [],
   "source": [
    "# Name of the dataarrays \n",
    "bandsets = ['tsmask']\n",
    "outbandnames = ['tsmask-buffer']\n",
    "#The directory where the files will be saved\n",
    "dirc='/g/data/u46/pjt554/tmp'\n",
    "# Output spectral and tsmask dataaray as ENVI images\n",
    "tsf.output_ds_to_ENVI(bandsets, outbandnames, dirc, s2_ds)"
   ]
  },
  {
   "cell_type": "code",
   "execution_count": 42,
   "metadata": {},
   "outputs": [
    {
     "name": "stdout",
     "output_type": "stream",
     "text": [
      "The End\n"
     ]
    }
   ],
   "source": [
    "print(\"The End\")"
   ]
  },
  {
   "cell_type": "code",
   "execution_count": null,
   "metadata": {},
   "outputs": [],
   "source": []
  }
 ],
 "metadata": {
  "kernelspec": {
   "display_name": "Python 3",
   "language": "python",
   "name": "python3"
  },
  "language_info": {
   "codemirror_mode": {
    "name": "ipython",
    "version": 3
   },
   "file_extension": ".py",
   "mimetype": "text/x-python",
   "name": "python",
   "nbconvert_exporter": "python",
   "pygments_lexer": "ipython3",
   "version": "3.6.10"
  },
  "toc": {
   "base_numbering": 1,
   "nav_menu": {},
   "number_sections": true,
   "sideBar": true,
   "skip_h1_title": false,
   "title_cell": "Table of Contents",
   "title_sidebar": "Contents",
   "toc_cell": false,
   "toc_position": {},
   "toc_section_display": true,
   "toc_window_display": false
  }
 },
 "nbformat": 4,
 "nbformat_minor": 4
}
