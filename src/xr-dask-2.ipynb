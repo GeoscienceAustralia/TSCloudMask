{
 "cells": [
  {
   "cell_type": "code",
   "execution_count": 1,
   "metadata": {},
   "outputs": [],
   "source": [
    "\n",
    "import rasterio\n",
    "import xarray as xr\n",
    "import sys\n",
    "import datacube\n",
    "import numpy as np\n",
    "\n",
    "from multiprocessing import Pool\n",
    "import dask.array as da\n",
    "import os\n",
    "import dask\n",
    "from dask.distributed import Client\n",
    "\n",
    "\n",
    "sys.path.append('../lib')\n",
    "sys.path.append('../../Scripts')\n",
    "import tsmask_func as tsf\n",
    "import testpair as cym\n",
    "import dea_datahandling as ddh\n",
    "from dea_dask import create_local_dask_cluster\n",
    "\n",
    "   \n"
   ]
  },
  {
   "cell_type": "code",
   "execution_count": 2,
   "metadata": {},
   "outputs": [],
   "source": [
    "def partition_blocks(irow, icol, prow, pcol):\n",
    "    \n",
    "    py = irow // prow + 1\n",
    "    px = icol // pcol + 1\n",
    "    \n",
    "    blocklist = []\n",
    "    for i in range(prow):\n",
    "        y1=i*py\n",
    "        if i == prow -1:\n",
    "            y2 = irow\n",
    "        else:\n",
    "            y2 = (i+1)*py\n",
    "            \n",
    "        for j in range(pcol):\n",
    "            x1 = j*px\n",
    "            if j == pcol-1:\n",
    "                x2 = icol\n",
    "            else:\n",
    "                x2 = (j+1)*px\n",
    "                \n",
    "            blocklist.append([y1, y2, x1, x2])\n",
    "    \n",
    "    return py, px, blocklist\n",
    "        "
   ]
  },
  {
   "cell_type": "code",
   "execution_count": 4,
   "metadata": {},
   "outputs": [],
   "source": [
    "def bs_tsmask(blue, green, red, nir, swir1, swir2):\n",
    "  \n",
    "    bsmask = cym.tsmask_lastdim(blue, green, red, nir, swir1, swir2)\n",
    "    \n",
    "    return bsmask\n",
    "\n",
    "def gen_tsmask(chblue, chgreen, chred, chnir, chswir1, chswir2):\n",
    "    return xr.apply_ufunc(\n",
    "        bs_tsmask, chblue, chgreen, chred, chnir, chswir1, chswir2,\n",
    "        dask='parallelized',\n",
    "        input_core_dims=[[\"time\"], [\"time\"],[\"time\"], [\"time\"],[\"time\"], [\"time\"]],\n",
    "        output_core_dims= [['indices']], \n",
    "        dask_gufunc_kwargs = {'output_sizes' : {'indices' : 4}},\n",
    "        output_dtypes = [np.float32]\n",
    " \n",
    "    )\n",
    "\n"
   ]
  },
  {
   "cell_type": "code",
   "execution_count": 5,
   "metadata": {},
   "outputs": [
    {
     "data": {
      "text/html": [
       "<table style=\"border: 2px solid white;\">\n",
       "<tr>\n",
       "<td style=\"vertical-align: top; border: 0px solid white\">\n",
       "<h3 style=\"text-align: left;\">Client</h3>\n",
       "<ul style=\"text-align: left; list-style: none; margin: 0; padding: 0;\">\n",
       "  <li><b>Scheduler: </b>tcp://127.0.0.1:39371</li>\n",
       "  <li><b>Dashboard: </b><a href='http://127.0.0.1:8787/status' target='_blank'>http://127.0.0.1:8787/status</a></li>\n",
       "</ul>\n",
       "</td>\n",
       "<td style=\"vertical-align: top; border: 0px solid white\">\n",
       "<h3 style=\"text-align: left;\">Cluster</h3>\n",
       "<ul style=\"text-align: left; list-style:none; margin: 0; padding: 0;\">\n",
       "  <li><b>Workers: </b>14</li>\n",
       "  <li><b>Cores: </b>28</li>\n",
       "  <li><b>Memory: </b>128.85 GB</li>\n",
       "</ul>\n",
       "</td>\n",
       "</tr>\n",
       "</table>"
      ],
      "text/plain": [
       "<Client: 'tcp://127.0.0.1:39371' processes=14 threads=28, memory=128.85 GB>"
      ]
     },
     "execution_count": 5,
     "metadata": {},
     "output_type": "execute_result"
    }
   ],
   "source": [
    "dirc ='/home/jovyan/nmask_testdata/cbr_dask_run/indices'\n",
    "loc_str ='canberra'\n",
    "\n",
    "ncpu = 14\n",
    "\n",
    "\n",
    "y1, y2 = -32.53284301899998, -33.52310232399998\n",
    "x1, x2 = 121.934694247, 123.105109264\n",
    "\n",
    "crs = 'EPSG:4326'\n",
    "out_crs = 'UTM'\n",
    "\n",
    "start_of_epoch = '2017-01-01'\n",
    "end_of_epoch ='2020-12-31'\n",
    "\n",
    "if out_crs == 'UTM':\n",
    "\n",
    "    out_crs = tsf.utm_code(x1, x2)\n",
    "\n",
    "\n",
    "client = Client(n_workers = ncpu, threads_per_worker=2, processes = True)\n",
    "client\n",
    "\n"
   ]
  },
  {
   "cell_type": "code",
   "execution_count": 6,
   "metadata": {},
   "outputs": [
    {
     "name": "stderr",
     "output_type": "stream",
     "text": [
      "/env/lib/python3.6/site-packages/datacube/drivers/postgres/_connections.py:87: SADeprecationWarning: Calling URL() directly is deprecated and will be disabled in a future release.  The public constructor for URL is now the URL.create() method.\n",
      "  username=username, password=password,\n"
     ]
    },
    {
     "name": "stdout",
     "output_type": "stream",
     "text": [
      "Finding datasets\n",
      "    s2a_ard_granule\n",
      "    s2b_ard_granule\n",
      "Returning 485 time steps as a dask array\n",
      "485 5515 5497\n"
     ]
    }
   ],
   "source": [
    " \n",
    "dc = datacube.Datacube(app='load_clearsentinel')\n",
    "\n",
    "s2_ds=tsf.load_s2_nbart_dask(dc, y1, y2, x1, x2, start_of_epoch, end_of_epoch, {   \n",
    "        \"time\": 1 }, crs, out_crs )\n",
    "\n",
    "\n",
    " # number of rows\n",
    "irow=s2_ds['y'].size\n",
    "# number of columns\n",
    "icol=s2_ds['x'].size\n",
    "# number of time steps\n",
    "tn = s2_ds['time'].size\n",
    "\n",
    "s2_ds.close()\n",
    "\n",
    "\n",
    "\n",
    "print(tn, irow, icol)\n"
   ]
  },
  {
   "cell_type": "code",
   "execution_count": 7,
   "metadata": {},
   "outputs": [
    {
     "name": "stdout",
     "output_type": "stream",
     "text": [
      "Finding datasets\n",
      "    s2a_ard_granule\n",
      "    s2b_ard_granule\n",
      "Returning 485 time steps as a dask array\n"
     ]
    }
   ],
   "source": [
    "chy, chx, blocklist = partition_blocks(irow, icol, 3, 3)\n",
    "\n",
    "tg_ds=tsf.load_s2_nbart_dask(dc, y1, y2, x1, x2, start_of_epoch, end_of_epoch, {   \n",
    "        \"time\": 1, \"y\": chy, \"x\" : chx }, crs, out_crs )\n"
   ]
  },
  {
   "cell_type": "code",
   "execution_count": 8,
   "metadata": {},
   "outputs": [
    {
     "name": "stdout",
     "output_type": "stream",
     "text": [
      "loading data for  [0, 1839, 0, 1833]\n",
      "Finish computing indices for  [0, 1839, 0, 1833]\n",
      "loading data for  [0, 1839, 1833, 3666]\n",
      "Finish computing indices for  [0, 1839, 1833, 3666]\n",
      "loading data for  [0, 1839, 3666, 5497]\n",
      "Finish computing indices for  [0, 1839, 3666, 5497]\n",
      "loading data for  [1839, 3678, 0, 1833]\n",
      "Finish computing indices for  [1839, 3678, 0, 1833]\n",
      "loading data for  [1839, 3678, 1833, 3666]\n",
      "Finish computing indices for  [1839, 3678, 1833, 3666]\n",
      "loading data for  [1839, 3678, 3666, 5497]\n",
      "Finish computing indices for  [1839, 3678, 3666, 5497]\n",
      "loading data for  [3678, 5515, 0, 1833]\n",
      "Finish computing indices for  [3678, 5515, 0, 1833]\n",
      "loading data for  [3678, 5515, 1833, 3666]\n",
      "Finish computing indices for  [3678, 5515, 1833, 3666]\n",
      "loading data for  [3678, 5515, 3666, 5497]\n",
      "Finish computing indices for  [3678, 5515, 3666, 5497]\n"
     ]
    }
   ],
   "source": [
    "# divide the whole target area into a set of smaller blocks\n",
    "# so that the data volume required for each iteration can be acommodated by the system memory \n",
    "\n",
    "indices = np.zeros((irow,icol, 4), dtype=np.float32)\n",
    "\n",
    "for block in blocklist:\n",
    "    y1, y2, x1, x2 = block\n",
    "    print(\"loading data for \", block)\n",
    "    \n",
    "    rchy = 64\n",
    "    rchx = 64\n",
    "    \n",
    "    \n",
    "    pblue = tg_ds.blue[:, y1:y2, x1:x2].persist()\n",
    "    pgreen = tg_ds.green[:, y1:y2, x1:x2].persist()\n",
    "    pred = tg_ds.red[:, y1:y2, x1:x2].persist()\n",
    "    pnir = tg_ds.nir[:, y1:y2, x1:x2].persist()\n",
    "    pswir1 = tg_ds.swir1[:, y1:y2, x1:x2].persist()\n",
    "    pswir2 = tg_ds.swir2[:, y1:y2, x1:x2].persist()\n",
    "    \n",
    "  \n",
    "    \n",
    "    chblue = pblue.chunk({\"time\":-1, \"y\":rchy, \"x\":rchx})\n",
    "    chgreen = pgreen.chunk({\"time\":-1, \"y\":rchy, \"x\":rchx})\n",
    "    chred = pred.chunk({\"time\":-1, \"y\":rchy, \"x\":rchx})\n",
    "    chnir = pnir.chunk({\"time\":-1, \"y\":rchy, \"x\":rchx})\n",
    "    chswir1 = pswir1.chunk({\"time\":-1, \"y\":rchy, \"x\":rchx})\n",
    "    chswir2 = pswir2.chunk({\"time\":-1, \"y\":rchy, \"x\":rchx})\n",
    "   \n",
    "    am = gen_tsmask(chblue, chgreen, chred, chnir, chswir1, chswir2)\n",
    " \n",
    "    indices[y1:y2, x1:x2, :] = am.compute()\n",
    "    print(\"Finish computing indices for \", block)\n",
    "    \n",
    "    \n",
    " "
   ]
  },
  {
   "cell_type": "code",
   "execution_count": 9,
   "metadata": {},
   "outputs": [
    {
     "name": "stdout",
     "output_type": "stream",
     "text": [
      "[[[ 0.10530532 -0.5940883   0.14705923  0.45274743]\n",
      "  [ 0.104082   -0.59441453  0.14665574  0.44977713]\n",
      "  [ 0.10713799 -0.60134995  0.15053304  0.45919058]\n",
      "  ...\n",
      "  [ 0.11404356 -0.5907778   0.17154269  0.6007948 ]\n",
      "  [ 0.10746598 -0.6051685   0.17719258  0.59506375]\n",
      "  [ 0.10711598 -0.60066396  0.17867848  0.5899254 ]]\n",
      "\n",
      " [[ 0.10842401 -0.57209826  0.13972102  0.47483483]\n",
      "  [ 0.10418689 -0.5970373   0.14236468  0.4641497 ]\n",
      "  [ 0.10801766 -0.5889217   0.14521173  0.48964843]\n",
      "  ...\n",
      "  [ 0.10650909 -0.6031923   0.18129069  0.60714114]\n",
      "  [ 0.10863233 -0.5896865   0.17715238  0.59213847]\n",
      "  [ 0.10436713 -0.5806248   0.17231117  0.5821918 ]]\n",
      "\n",
      " [[ 0.10516712 -0.5921474   0.14890698  0.45380196]\n",
      "  [ 0.1034426  -0.6032516   0.14505716  0.46297264]\n",
      "  [ 0.10569072 -0.59957224  0.1435893   0.4772514 ]\n",
      "  ...\n",
      "  [ 0.10040749 -0.612911    0.18792157  0.59667003]\n",
      "  [ 0.10573873 -0.59501356  0.1834635   0.5940693 ]\n",
      "  [ 0.09932663 -0.61523765  0.18416291  0.5955776 ]]\n",
      "\n",
      " ...\n",
      "\n",
      " [[ 0.19492462 -0.49236044  0.24628116  0.5454064 ]\n",
      "  [ 0.19316779 -0.492268    0.24754368  0.54422987]\n",
      "  [ 0.19482294 -0.49293476  0.24754225  0.53421116]\n",
      "  ...\n",
      "  [ 0.1168878  -0.51586205  0.19163465  0.3230536 ]\n",
      "  [ 0.11585897 -0.52133673  0.19580099  0.32159695]\n",
      "  [ 0.11652493 -0.5204908   0.19636692  0.31864378]]\n",
      "\n",
      " [[ 0.19399063 -0.4917784   0.25145093  0.5605943 ]\n",
      "  [ 0.19155227 -0.49337563  0.2504025   0.5508777 ]\n",
      "  [ 0.19378792 -0.49365458  0.24804051  0.5372889 ]\n",
      "  ...\n",
      "  [ 0.11530461 -0.5330375   0.19536287  0.3374366 ]\n",
      "  [ 0.11716436 -0.5136539   0.19143693  0.33319372]\n",
      "  [ 0.1212882  -0.50907385  0.19466189  0.3243071 ]]\n",
      "\n",
      " [[ 0.18903716 -0.4950028   0.23252743  0.539117  ]\n",
      "  [ 0.1886522  -0.49507895  0.23054442  0.5220478 ]\n",
      "  [ 0.19241536 -0.49138936  0.22084406  0.50181353]\n",
      "  ...\n",
      "  [ 0.1170792  -0.5106091   0.18188049  0.3465837 ]\n",
      "  [ 0.11338276 -0.5419437   0.19694217  0.35202664]\n",
      "  [ 0.12347021 -0.4851187   0.18083568  0.31403297]]]\n",
      "(5515, 5497, 4)\n"
     ]
    }
   ],
   "source": [
    "print(indices)\n",
    "print(indices.shape)"
   ]
  },
  {
   "cell_type": "code",
   "execution_count": 10,
   "metadata": {},
   "outputs": [
    {
     "name": "stdout",
     "output_type": "stream",
     "text": [
      "Begin writing long term mean of indices files\n",
      "Finish writing long term mean of indices files\n"
     ]
    }
   ],
   "source": [
    "geotrans = tg_ds.geobox.transform.to_gdal()\n",
    "prj = tg_ds.geobox.crs.wkt\n",
    "\n",
    "indices_list=[ 's6m', 'mndwi', 'msavi','whi']\n",
    "\n",
    "print(\"Begin writing long term mean of indices files\")\n",
    "\n",
    "for i, indname in enumerate(indices_list):\n",
    "    fname = dirc + '/'+loc_str+'_'+indname+'_'+start_of_epoch+'_'+end_of_epoch+'.tif'\n",
    "    ddh.array_to_geotiff(fname, indices[:, :, i], geotrans, prj)\n",
    "\n",
    "print(\"Finish writing long term mean of indices files\")\n",
    "\n",
    "tg_ds.close()"
   ]
  },
  {
   "cell_type": "code",
   "execution_count": null,
   "metadata": {},
   "outputs": [],
   "source": []
  },
  {
   "cell_type": "code",
   "execution_count": null,
   "metadata": {},
   "outputs": [],
   "source": []
  },
  {
   "cell_type": "code",
   "execution_count": null,
   "metadata": {},
   "outputs": [],
   "source": []
  },
  {
   "cell_type": "code",
   "execution_count": null,
   "metadata": {},
   "outputs": [],
   "source": []
  },
  {
   "cell_type": "code",
   "execution_count": null,
   "metadata": {},
   "outputs": [],
   "source": []
  }
 ],
 "metadata": {
  "kernelspec": {
   "display_name": "Python 3",
   "language": "python",
   "name": "python3"
  },
  "language_info": {
   "codemirror_mode": {
    "name": "ipython",
    "version": 3
   },
   "file_extension": ".py",
   "mimetype": "text/x-python",
   "name": "python",
   "nbconvert_exporter": "python",
   "pygments_lexer": "ipython3",
   "version": "3.6.9"
  }
 },
 "nbformat": 4,
 "nbformat_minor": 5
}
