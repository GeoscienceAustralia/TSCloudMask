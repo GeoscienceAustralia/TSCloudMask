{
 "cells": [
  {
   "cell_type": "code",
   "execution_count": 1,
   "metadata": {},
   "outputs": [],
   "source": [
    "import rasterio\n",
    "import xarray as xr\n",
    "import sys\n",
    "import datacube\n",
    "\n",
    "import numpy as np\n",
    "from multiprocessing import Pool\n",
    "import dask.array as da\n",
    "import os\n",
    "\n",
    "import dask\n",
    "from dask.distributed import Client\n",
    "\n",
    "sys.path.append('../lib')\n",
    "import tsmask_func as tsf\n",
    "import testpair as cym\n",
    "import dea_datahandling as ddh\n",
    "\n",
    "\n",
    "\n",
    "import tensorflow as tf\n",
    "import tensorflow.keras.models as models\n",
    "from datacube.utils.cog import write_cog\n"
   ]
  },
  {
   "cell_type": "code",
   "execution_count": 2,
   "metadata": {},
   "outputs": [],
   "source": [
    "def load_bgids(indices_list, dirc, indstr, loc_str):\n",
    "    \n",
    "    \n",
    "    \n",
    "    n_ids = len(indices_list)\n",
    "    \n",
    "    print(\"Start loading long term mean of indices\")\n",
    "\n",
    "    bgids =[]\n",
    "    for i, indname in enumerate(indices_list):\n",
    "        fname = dirc + '/'+loc_str+'_'+indname+'_'+indstr+'.tif'\n",
    "        dbs=xr.open_rasterio(fname)\n",
    "        if i == 0:\n",
    "            irow = dbs['y'].size\n",
    "            icol = dbs['x'].size\n",
    "            #bgids = np.zeros((n_ids, irow*icol), dtype = np.float32)\n",
    "        \n",
    "        #bgids[i] = dbs.data[0].flatten()\n",
    "        bgids.append(dbs.data[0])\n",
    "        dbs.close()\n",
    "    \n",
    "    return bgids\n"
   ]
  },
  {
   "cell_type": "code",
   "execution_count": 3,
   "metadata": {},
   "outputs": [],
   "source": [
    "def prep_features(sa, mndwi, msavi, whi, bg_indices, ipdata):\n",
    "    n_ids=4\n",
    "    for k in range(n_ids):\n",
    "        ipdata[: , k*3] = bg_indices[k, :]\n",
    "        \n",
    "    ipdata[:, 1] = sa\n",
    "    ipdata[:, 4] = mndwi\n",
    "    ipdata[:, 7] = msavi\n",
    "    ipdata[:, 10] = whi\n",
    "    \n",
    "    for k in range(n_ids):\n",
    "        ipdata[: , k*3+2] = (ipdata[: , k*3+1] - ipdata[: , k*3]) / ipdata[: , k*3]\n",
    "        \n",
    "    \n",
    "    return ipdata    \n"
   ]
  },
  {
   "cell_type": "code",
   "execution_count": 4,
   "metadata": {},
   "outputs": [],
   "source": [
    "def create_ip_data(chblue, chgreen, chred, chnir, chswir1, chswir, bgids, loc_str, outdirc):\n",
    "    \n",
    "    \n",
    "    irow=s2_ds['y'].size\n",
    "    icol=s2_ds['x'].size\n",
    "    tn = s2_ds['time'].size\n",
    "\n",
    "    timebandnames = tsf.get_timebandnames(s2_ds)\n",
    "    \n",
    "    pnum = irow * icol\n",
    "    \n",
    "    n_ids = bgids.shape[0]\n",
    "    \n",
    "    ipdata=np.zeros((pnum, n_ids*3), dtype=np.float32)\n",
    "\n",
    "    for i in np.arange(tn):\n",
    "\n",
    "        blue = s2_ds[\"blue\"][i].values\n",
    "        #print(\"Finish loading the blue band\")  \n",
    "    \n",
    "        green = s2_ds[\"green\"][i].values\n",
    "        #print(\"Finish loading the green band\")\n",
    "\n",
    "        red = s2_ds[\"red\"][i].values\n",
    "        #print(\"Finish loading the red band\")\n",
    "\n",
    "        nir = s2_ds[\"nir\"][i].values\n",
    "        #print(\"Finish loading the nir band\")\n",
    "\n",
    "        swir1 = s2_ds[\"swir1\"][i].values\n",
    "        #print(\"Finish loading the swir1 band\")\n",
    "\n",
    "        swir2 = s2_ds[\"swir2\"][i].values\n",
    "        #print(\"Finish loading the swir2 band\")\n",
    "    \n",
    "   \n",
    "  \n",
    "    \n",
    "    \n",
    "        #convert cal_indices in cython\n",
    "        sa, mndwi, msavi, whi, mask = cym.cal_indices(blue.flatten(), green.flatten(), red.flatten(), nir.flatten(), swir1.flatten(), swir2.flatten(), pnum)\n",
    "\n",
    "        print(timebandnames[i])\n",
    "        ipdata = prep_features(sa, mndwi, msavi, whi, bgids, ipdata)\n",
    "        #print(ipdata[:, 11])\n",
    "        #print(i, mask.shape, mask.sum())\n",
    "        vdipdata = ipdata[mask==1]\n",
    "        #print(vdipdata.shape, vdipdata[:,11])\n",
    "        vdipdata = vdipdata.flatten()\n",
    "\n",
    "\n",
    "        datafname = outdirc + '/' + loc_str + '_'+timebandnames[i]+'_ipdata'\n",
    "        np.save(datafname, vdipdata)\n",
    "        maskfname = outdirc + '/' + loc_str + '_'+timebandnames[i]+'_ipmask'\n",
    "        np.save(maskfname, mask)\n",
    "        \n",
    "    tsbandfname = outdirc + '/' + loc_str + '_timebandnames'\n",
    "    np.save(tsbandfname, timebandnames)\n"
   ]
  },
  {
   "cell_type": "code",
   "execution_count": 5,
   "metadata": {},
   "outputs": [],
   "source": [
    "def dumb_getipdata(blue, green, red, nir, swir1, swir2, s6m, mndwi, msavi, whi):\n",
    "    irow = blue.shape[0]\n",
    "    icol = blue.shape[1]\n",
    "    ipdata = np.zeros((irow, icol, 12), dtype = np.float32 )\n",
    "    ipdata[:, :, 0] = msavi\n",
    "    \n",
    "    return ipdata"
   ]
  },
  {
   "cell_type": "code",
   "execution_count": 6,
   "metadata": {},
   "outputs": [],
   "source": [
    "def cal_ip_data(blue, green, red, nir, swir1, swir2, s6m, mndwi, msavi, whi):\n",
    "    \n",
    "    #tsmask = cym.tsmask(blue, green, red, nir, swir1, swir2)\n",
    "    ipdata = cym.getipdata(blue, green, red, nir, swir1, swir2, s6m, mndwi, msavi, whi)\n",
    "    #ipdata = dumb_getipdata(blue, green, red, nir, swir1, swir2, s6m, mndwi, msavi, whi)\n",
    "    \n",
    "    return ipdata\n",
    "\n",
    "def tf_data(blue, green, red, nir, swir1, swir2, s6m, mndwi, msavi, whi):\n",
    "    return xr.apply_ufunc(\n",
    "        cal_ip_data, blue, green, red, nir, swir1, swir2, s6m, mndwi, msavi, whi,\n",
    "        dask='parallelized',\n",
    "        #input_core_dims=[[\"time\"], [\"time\"],[\"time\"], [\"time\"],[\"time\"], [\"time\"]],\n",
    "        #input_core_dims=[[\"time\"], [\"time\"]],\n",
    "        #vectorize = True,\n",
    "        #output_core_dims=[],\n",
    "        #output_core_dims= [[] for _ in range(4)], \n",
    "        output_core_dims= [['ipdata']], \n",
    "        #output_sizes = {'ipdata' : 13},\n",
    "        #dask_gufunc_kwargs = {\"allow_rechunk\": True},\n",
    "        dask_gufunc_kwargs = {'output_sizes' : {'ipdata' : 13}},\n",
    "        output_dtypes = [np.float32]\n",
    "        #output_dtypes = [np.uint8, np.uint8, np.uint8, np.uint8]\n",
    "    )\n",
    "\n"
   ]
  },
  {
   "cell_type": "code",
   "execution_count": 7,
   "metadata": {},
   "outputs": [],
   "source": [
    "def std_by_paramters(data, rs, msarr):\n",
    "    ntr=data.shape[1]\n",
    "    for i in np.arange(ntr):\n",
    "        clm=data[:, i]\n",
    "        mu=msarr[i]\n",
    "        std=msarr[i+ntr]\n",
    "        clm=(clm-mu)/(rs*std)\n",
    "        data[:,i]=clm\n",
    "        \n",
    "    return data\n"
   ]
  },
  {
   "cell_type": "code",
   "execution_count": null,
   "metadata": {},
   "outputs": [],
   "source": []
  },
  {
   "cell_type": "code",
   "execution_count": null,
   "metadata": {},
   "outputs": [],
   "source": []
  },
  {
   "cell_type": "code",
   "execution_count": null,
   "metadata": {},
   "outputs": [],
   "source": []
  },
  {
   "cell_type": "code",
   "execution_count": 8,
   "metadata": {},
   "outputs": [
    {
     "data": {
      "text/html": [
       "<table style=\"border: 2px solid white;\">\n",
       "<tr>\n",
       "<td style=\"vertical-align: top; border: 0px solid white\">\n",
       "<h3 style=\"text-align: left;\">Client</h3>\n",
       "<ul style=\"text-align: left; list-style: none; margin: 0; padding: 0;\">\n",
       "  <li><b>Scheduler: </b>tcp://127.0.0.1:41657</li>\n",
       "  <li><b>Dashboard: </b><a href='http://127.0.0.1:8787/status' target='_blank'>http://127.0.0.1:8787/status</a></li>\n",
       "</ul>\n",
       "</td>\n",
       "<td style=\"vertical-align: top; border: 0px solid white\">\n",
       "<h3 style=\"text-align: left;\">Cluster</h3>\n",
       "<ul style=\"text-align: left; list-style:none; margin: 0; padding: 0;\">\n",
       "  <li><b>Workers: </b>2</li>\n",
       "  <li><b>Cores: </b>2</li>\n",
       "  <li><b>Memory: </b>16.11 GB</li>\n",
       "</ul>\n",
       "</td>\n",
       "</tr>\n",
       "</table>"
      ],
      "text/plain": [
       "<Client: 'tcp://127.0.0.1:41657' processes=2 threads=2, memory=16.11 GB>"
      ]
     },
     "execution_count": 8,
     "metadata": {},
     "output_type": "execute_result"
    }
   ],
   "source": [
    "dirc ='/home/jovyan/nmask_testdata/cbr_dask_run/indices'\n",
    "\n",
    "loc_str ='canberra'\n",
    "\n",
    "ncpu = 2\n",
    "\n",
    "\n",
    "y1, y2 = -32.53284301899998, -33.52310232399998\n",
    "x1, x2 = 121.934694247, 123.105109264\n",
    "\n",
    "crs = 'EPSG:4326'\n",
    "out_crs = 'UTM'\n",
    "\n",
    "start_of_epoch = '2018-01-01'\n",
    "end_of_epoch ='2020-12-31'\n",
    "\n",
    "if out_crs == 'UTM':\n",
    "\n",
    "    out_crs = tsf.utm_code(x1, x2)\n",
    "\n",
    "#create_local_dask_cluster(spare_mem='4GB')\n",
    "\n",
    "outdirc = '/home/jovyan/nmask_testdata/cbr_dask_run/maskfiles'\n",
    "modeldirc ='/home/jovyan/nmask_dask/models'\n",
    "modelname ='combine_trdata_tsmask_model'\n",
    "\n",
    "parafilename=modeldirc+'/'+modelname+'_standarise_parameters.npy'\n",
    "norm_paras = np.load(parafilename)\n",
    "modelfilename=modeldirc+'/'+modelname\n",
    "model = models.load_model(modelfilename)\n",
    "\n",
    "\n",
    "client = Client(n_workers = ncpu, threads_per_worker=1, processes = True)\n",
    "client\n",
    "\n"
   ]
  },
  {
   "cell_type": "code",
   "execution_count": 9,
   "metadata": {},
   "outputs": [
    {
     "name": "stdout",
     "output_type": "stream",
     "text": [
      "Start loading long term mean of indices\n"
     ]
    }
   ],
   "source": [
    "indices_list=['s6m', 'mndwi', 'msavi', 'whi']\n",
    "indstr = start_of_epoch+\"_\"+end_of_epoch\n",
    "\n",
    "\n",
    "bgids = load_bgids(indices_list, dirc, indstr, loc_str)\n",
    "\n",
    "\n",
    "indfile=dirc+'/'+loc_str+'_msavi_'+indstr+'.tif'\n",
    "dbs=xr.open_rasterio(indfile)\n",
    "\n"
   ]
  },
  {
   "cell_type": "code",
   "execution_count": 10,
   "metadata": {},
   "outputs": [
    {
     "data": {
      "text/plain": [
       "(5515, 5497)"
      ]
     },
     "execution_count": 10,
     "metadata": {},
     "output_type": "execute_result"
    }
   ],
   "source": [
    "bgids[2].shape"
   ]
  },
  {
   "cell_type": "code",
   "execution_count": 11,
   "metadata": {},
   "outputs": [
    {
     "name": "stderr",
     "output_type": "stream",
     "text": [
      "/env/lib/python3.6/site-packages/datacube/drivers/postgres/_connections.py:87: SADeprecationWarning: Calling URL() directly is deprecated and will be disabled in a future release.  The public constructor for URL is now the URL.create() method.\n",
      "  username=username, password=password,\n"
     ]
    },
    {
     "name": "stdout",
     "output_type": "stream",
     "text": [
      "Finding datasets\n",
      "    s2a_ard_granule\n",
      "    s2b_ard_granule\n",
      "Returning 424 time steps as a dask array\n"
     ]
    }
   ],
   "source": [
    "chy, chx = 500, 500\n",
    "\n",
    "dc = datacube.Datacube(app='load_clearsentinel')\n",
    "tg_ds=tsf.load_s2_nbart_dask(dc, y1, y2, x1, x2, start_of_epoch, end_of_epoch, {   \n",
    "        \"time\": 1, \"y\": chy, \"x\" : chx }, crs, out_crs )\n"
   ]
  },
  {
   "cell_type": "code",
   "execution_count": 12,
   "metadata": {},
   "outputs": [],
   "source": [
    "for i, indname in enumerate(indices_list):\n",
    "    tg_ds[indname]=tg_ds['blue'][0]\n",
    "    tg_ds[indname].data = bgids[i]\n",
    "    tg_ds[indname]=tg_ds[indname].chunk({'y':chy, 'x':chx})"
   ]
  },
  {
   "cell_type": "code",
   "execution_count": null,
   "metadata": {},
   "outputs": [
    {
     "name": "stdout",
     "output_type": "stream",
     "text": [
      "Begin classifying scene  2018-01-01\n"
     ]
    },
    {
     "name": "stderr",
     "output_type": "stream",
     "text": [
      "/env/lib/python3.6/site-packages/pyproj/crs/crs.py:280: FutureWarning: '+init=<authority>:<code>' syntax is deprecated. '<authority>:<code>' is the preferred initialization method. When making the change, be mindful of axis order changes: https://pyproj4.github.io/pyproj/stable/gotchas.html#axis-order-changes-in-proj-6\n",
      "  projstring = _prepare_from_string(projparams)\n"
     ]
    },
    {
     "name": "stdout",
     "output_type": "stream",
     "text": [
      "Finish writing mask file  /home/jovyan/nmask_testdata/cbr_dask_run/maskfiles/canberra_2018-01-01_nmask-cog.tif\n",
      "Begin classifying scene  2018-01-06\n",
      "Finish writing mask file  /home/jovyan/nmask_testdata/cbr_dask_run/maskfiles/canberra_2018-01-06_nmask-cog.tif\n",
      "Begin classifying scene  2018-01-08\n",
      "Finish writing mask file  /home/jovyan/nmask_testdata/cbr_dask_run/maskfiles/canberra_2018-01-08_nmask-cog.tif\n"
     ]
    },
    {
     "name": "stderr",
     "output_type": "stream",
     "text": [
      "distributed.nanny - WARNING - Restarting worker\n",
      "distributed.nanny - WARNING - Worker exceeded 95% memory budget. Restarting\n",
      "distributed.nanny - WARNING - Worker exceeded 95% memory budget. Restarting\n",
      "distributed.nanny - WARNING - Restarting worker\n"
     ]
    },
    {
     "name": "stdout",
     "output_type": "stream",
     "text": [
      "Begin classifying scene  2018-01-11\n",
      "Finish writing mask file  /home/jovyan/nmask_testdata/cbr_dask_run/maskfiles/canberra_2018-01-11_nmask-cog.tif\n",
      "Begin classifying scene  2018-01-13\n"
     ]
    },
    {
     "name": "stderr",
     "output_type": "stream",
     "text": [
      "distributed.nanny - WARNING - Restarting worker\n"
     ]
    },
    {
     "name": "stdout",
     "output_type": "stream",
     "text": [
      "Finish writing mask file  /home/jovyan/nmask_testdata/cbr_dask_run/maskfiles/canberra_2018-01-13_nmask-cog.tif\n"
     ]
    },
    {
     "name": "stderr",
     "output_type": "stream",
     "text": [
      "distributed.nanny - WARNING - Restarting worker\n"
     ]
    },
    {
     "name": "stdout",
     "output_type": "stream",
     "text": [
      "Begin classifying scene  2018-01-18\n",
      "Finish writing mask file  /home/jovyan/nmask_testdata/cbr_dask_run/maskfiles/canberra_2018-01-18_nmask-cog.tif\n",
      "Begin classifying scene  2018-01-21\n",
      "Finish writing mask file  /home/jovyan/nmask_testdata/cbr_dask_run/maskfiles/canberra_2018-01-21_nmask-cog.tif\n",
      "Begin classifying scene  2018-01-26\n",
      "Finish writing mask file  /home/jovyan/nmask_testdata/cbr_dask_run/maskfiles/canberra_2018-01-26_nmask-cog.tif\n",
      "Begin classifying scene  2018-01-28\n"
     ]
    },
    {
     "name": "stderr",
     "output_type": "stream",
     "text": [
      "distributed.nanny - WARNING - Restarting worker\n",
      "distributed.nanny - WARNING - Worker exceeded 95% memory budget. Restarting\n",
      "distributed.nanny - WARNING - Restarting worker\n"
     ]
    },
    {
     "name": "stdout",
     "output_type": "stream",
     "text": [
      "Finish writing mask file  /home/jovyan/nmask_testdata/cbr_dask_run/maskfiles/canberra_2018-01-28_nmask-cog.tif\n"
     ]
    },
    {
     "name": "stderr",
     "output_type": "stream",
     "text": [
      "distributed.nanny - WARNING - Restarting worker\n"
     ]
    },
    {
     "name": "stdout",
     "output_type": "stream",
     "text": [
      "Begin classifying scene  2018-01-31\n",
      "Finish writing mask file  /home/jovyan/nmask_testdata/cbr_dask_run/maskfiles/canberra_2018-01-31_nmask-cog.tif\n",
      "Begin classifying scene  2018-02-02\n"
     ]
    },
    {
     "name": "stderr",
     "output_type": "stream",
     "text": [
      "distributed.nanny - WARNING - Restarting worker\n"
     ]
    },
    {
     "name": "stdout",
     "output_type": "stream",
     "text": [
      "Finish writing mask file  /home/jovyan/nmask_testdata/cbr_dask_run/maskfiles/canberra_2018-02-02_nmask-cog.tif\n",
      "Begin classifying scene  2018-02-07\n"
     ]
    },
    {
     "name": "stderr",
     "output_type": "stream",
     "text": [
      "distributed.nanny - WARNING - Restarting worker\n"
     ]
    },
    {
     "name": "stdout",
     "output_type": "stream",
     "text": [
      "Finish writing mask file  /home/jovyan/nmask_testdata/cbr_dask_run/maskfiles/canberra_2018-02-07_nmask-cog.tif\n",
      "Begin classifying scene  2018-02-10\n",
      "Finish writing mask file  /home/jovyan/nmask_testdata/cbr_dask_run/maskfiles/canberra_2018-02-10_nmask-cog.tif\n",
      "Begin classifying scene  2018-02-12\n"
     ]
    },
    {
     "name": "stderr",
     "output_type": "stream",
     "text": [
      "distributed.nanny - WARNING - Restarting worker\n",
      "distributed.nanny - WARNING - Worker exceeded 95% memory budget. Restarting\n",
      "distributed.nanny - WARNING - Restarting worker\n"
     ]
    },
    {
     "name": "stdout",
     "output_type": "stream",
     "text": [
      "Finish writing mask file  /home/jovyan/nmask_testdata/cbr_dask_run/maskfiles/canberra_2018-02-12_nmask-cog.tif\n",
      "Begin classifying scene  2018-02-15\n",
      "Finish writing mask file  /home/jovyan/nmask_testdata/cbr_dask_run/maskfiles/canberra_2018-02-15_nmask-cog.tif\n",
      "Begin classifying scene  2018-02-17\n"
     ]
    },
    {
     "name": "stderr",
     "output_type": "stream",
     "text": [
      "distributed.nanny - WARNING - Restarting worker\n"
     ]
    },
    {
     "name": "stdout",
     "output_type": "stream",
     "text": [
      "Finish writing mask file  /home/jovyan/nmask_testdata/cbr_dask_run/maskfiles/canberra_2018-02-17_nmask-cog.tif\n",
      "Begin classifying scene  2018-02-20\n",
      "Finish writing mask file  /home/jovyan/nmask_testdata/cbr_dask_run/maskfiles/canberra_2018-02-20_nmask-cog.tif\n",
      "Begin classifying scene  2018-02-22\n",
      "Finish writing mask file  /home/jovyan/nmask_testdata/cbr_dask_run/maskfiles/canberra_2018-02-22_nmask-cog.tif\n"
     ]
    },
    {
     "name": "stderr",
     "output_type": "stream",
     "text": [
      "distributed.nanny - WARNING - Restarting worker\n",
      "distributed.nanny - WARNING - Restarting worker\n",
      "distributed.nanny - WARNING - Worker exceeded 95% memory budget. Restarting\n",
      "distributed.nanny - WARNING - Restarting worker\n"
     ]
    },
    {
     "name": "stdout",
     "output_type": "stream",
     "text": [
      "Begin classifying scene  2018-02-25\n",
      "Finish writing mask file  /home/jovyan/nmask_testdata/cbr_dask_run/maskfiles/canberra_2018-02-25_nmask-cog.tif\n",
      "Begin classifying scene  2018-02-27\n",
      "Finish writing mask file  /home/jovyan/nmask_testdata/cbr_dask_run/maskfiles/canberra_2018-02-27_nmask-cog.tif\n"
     ]
    },
    {
     "name": "stderr",
     "output_type": "stream",
     "text": [
      "distributed.nanny - WARNING - Restarting worker\n"
     ]
    },
    {
     "name": "stdout",
     "output_type": "stream",
     "text": [
      "Begin classifying scene  2018-03-02\n",
      "Finish writing mask file  /home/jovyan/nmask_testdata/cbr_dask_run/maskfiles/canberra_2018-03-02_nmask-cog.tif\n",
      "Begin classifying scene  2018-03-04\n"
     ]
    },
    {
     "name": "stderr",
     "output_type": "stream",
     "text": [
      "distributed.nanny - WARNING - Restarting worker\n"
     ]
    },
    {
     "name": "stdout",
     "output_type": "stream",
     "text": [
      "Finish writing mask file  /home/jovyan/nmask_testdata/cbr_dask_run/maskfiles/canberra_2018-03-04_nmask-cog.tif\n",
      "Begin classifying scene  2018-03-07\n",
      "Finish writing mask file  /home/jovyan/nmask_testdata/cbr_dask_run/maskfiles/canberra_2018-03-07_nmask-cog.tif\n",
      "Begin classifying scene  2018-03-09\n"
     ]
    },
    {
     "name": "stderr",
     "output_type": "stream",
     "text": [
      "distributed.nanny - WARNING - Restarting worker\n",
      "distributed.nanny - WARNING - Worker exceeded 95% memory budget. Restarting\n",
      "distributed.nanny - WARNING - Restarting worker\n",
      "distributed.nanny - WARNING - Worker exceeded 95% memory budget. Restarting\n",
      "distributed.nanny - WARNING - Restarting worker\n"
     ]
    },
    {
     "name": "stdout",
     "output_type": "stream",
     "text": [
      "Finish writing mask file  /home/jovyan/nmask_testdata/cbr_dask_run/maskfiles/canberra_2018-03-09_nmask-cog.tif\n",
      "Begin classifying scene  2018-03-12\n",
      "Finish writing mask file  /home/jovyan/nmask_testdata/cbr_dask_run/maskfiles/canberra_2018-03-12_nmask-cog.tif\n",
      "Begin classifying scene  2018-03-14\n"
     ]
    },
    {
     "name": "stderr",
     "output_type": "stream",
     "text": [
      "distributed.nanny - WARNING - Restarting worker\n",
      "distributed.nanny - WARNING - Worker exceeded 95% memory budget. Restarting\n",
      "distributed.nanny - WARNING - Restarting worker\n"
     ]
    },
    {
     "name": "stdout",
     "output_type": "stream",
     "text": [
      "Finish writing mask file  /home/jovyan/nmask_testdata/cbr_dask_run/maskfiles/canberra_2018-03-14_nmask-cog.tif\n",
      "Begin classifying scene  2018-03-17\n",
      "Finish writing mask file  /home/jovyan/nmask_testdata/cbr_dask_run/maskfiles/canberra_2018-03-17_nmask-cog.tif\n",
      "Begin classifying scene  2018-03-19\n"
     ]
    },
    {
     "name": "stderr",
     "output_type": "stream",
     "text": [
      "distributed.nanny - WARNING - Restarting worker\n",
      "distributed.nanny - WARNING - Worker exceeded 95% memory budget. Restarting\n",
      "distributed.nanny - WARNING - Restarting worker\n"
     ]
    },
    {
     "name": "stdout",
     "output_type": "stream",
     "text": [
      "Finish writing mask file  /home/jovyan/nmask_testdata/cbr_dask_run/maskfiles/canberra_2018-03-19_nmask-cog.tif\n"
     ]
    },
    {
     "name": "stderr",
     "output_type": "stream",
     "text": [
      "distributed.nanny - WARNING - Restarting worker\n"
     ]
    },
    {
     "name": "stdout",
     "output_type": "stream",
     "text": [
      "Begin classifying scene  2018-03-22\n",
      "Finish writing mask file  /home/jovyan/nmask_testdata/cbr_dask_run/maskfiles/canberra_2018-03-22_nmask-cog.tif\n",
      "Begin classifying scene  2018-03-24\n"
     ]
    },
    {
     "name": "stderr",
     "output_type": "stream",
     "text": [
      "distributed.nanny - WARNING - Restarting worker\n"
     ]
    },
    {
     "name": "stdout",
     "output_type": "stream",
     "text": [
      "Finish writing mask file  /home/jovyan/nmask_testdata/cbr_dask_run/maskfiles/canberra_2018-03-24_nmask-cog.tif\n",
      "Begin classifying scene  2018-03-27\n",
      "Finish writing mask file  /home/jovyan/nmask_testdata/cbr_dask_run/maskfiles/canberra_2018-03-27_nmask-cog.tif\n",
      "Begin classifying scene  2018-03-29\n",
      "Finish writing mask file  /home/jovyan/nmask_testdata/cbr_dask_run/maskfiles/canberra_2018-03-29_nmask-cog.tif\n"
     ]
    },
    {
     "name": "stderr",
     "output_type": "stream",
     "text": [
      "distributed.nanny - WARNING - Restarting worker\n",
      "distributed.nanny - WARNING - Worker exceeded 95% memory budget. Restarting\n",
      "distributed.nanny - WARNING - Restarting worker\n"
     ]
    },
    {
     "name": "stdout",
     "output_type": "stream",
     "text": [
      "Begin classifying scene  2018-04-01\n",
      "Finish writing mask file  /home/jovyan/nmask_testdata/cbr_dask_run/maskfiles/canberra_2018-04-01_nmask-cog.tif\n",
      "Begin classifying scene  2018-04-03\n",
      "Finish writing mask file  /home/jovyan/nmask_testdata/cbr_dask_run/maskfiles/canberra_2018-04-03_nmask-cog.tif\n"
     ]
    },
    {
     "name": "stderr",
     "output_type": "stream",
     "text": [
      "distributed.nanny - WARNING - Restarting worker\n",
      "distributed.nanny - WARNING - Restarting worker\n"
     ]
    },
    {
     "name": "stdout",
     "output_type": "stream",
     "text": [
      "Begin classifying scene  2018-04-06\n",
      "Finish writing mask file  /home/jovyan/nmask_testdata/cbr_dask_run/maskfiles/canberra_2018-04-06_nmask-cog.tif\n",
      "Begin classifying scene  2018-04-08\n",
      "Finish writing mask file  /home/jovyan/nmask_testdata/cbr_dask_run/maskfiles/canberra_2018-04-08_nmask-cog.tif\n"
     ]
    },
    {
     "name": "stderr",
     "output_type": "stream",
     "text": [
      "distributed.nanny - WARNING - Restarting worker\n",
      "distributed.nanny - WARNING - Worker exceeded 95% memory budget. Restarting\n",
      "distributed.nanny - WARNING - Restarting worker\n"
     ]
    },
    {
     "name": "stdout",
     "output_type": "stream",
     "text": [
      "Begin classifying scene  2018-04-11\n",
      "Finish writing mask file  /home/jovyan/nmask_testdata/cbr_dask_run/maskfiles/canberra_2018-04-11_nmask-cog.tif\n",
      "Begin classifying scene  2018-04-13\n",
      "Finish writing mask file  /home/jovyan/nmask_testdata/cbr_dask_run/maskfiles/canberra_2018-04-13_nmask-cog.tif\n"
     ]
    },
    {
     "name": "stderr",
     "output_type": "stream",
     "text": [
      "distributed.nanny - WARNING - Restarting worker\n"
     ]
    },
    {
     "name": "stdout",
     "output_type": "stream",
     "text": [
      "Begin classifying scene  2018-04-16\n",
      "Finish writing mask file  /home/jovyan/nmask_testdata/cbr_dask_run/maskfiles/canberra_2018-04-16_nmask-cog.tif\n",
      "Begin classifying scene  2018-04-18\n",
      "Finish writing mask file  /home/jovyan/nmask_testdata/cbr_dask_run/maskfiles/canberra_2018-04-18_nmask-cog.tif\n"
     ]
    },
    {
     "name": "stderr",
     "output_type": "stream",
     "text": [
      "distributed.nanny - WARNING - Restarting worker\n",
      "distributed.nanny - WARNING - Worker exceeded 95% memory budget. Restarting\n",
      "distributed.nanny - WARNING - Restarting worker\n",
      "distributed.nanny - WARNING - Worker exceeded 95% memory budget. Restarting\n",
      "distributed.nanny - WARNING - Restarting worker\n"
     ]
    },
    {
     "name": "stdout",
     "output_type": "stream",
     "text": [
      "Begin classifying scene  2018-04-21\n",
      "Finish writing mask file  /home/jovyan/nmask_testdata/cbr_dask_run/maskfiles/canberra_2018-04-21_nmask-cog.tif\n",
      "Begin classifying scene  2018-04-23\n"
     ]
    },
    {
     "name": "stderr",
     "output_type": "stream",
     "text": [
      "distributed.nanny - WARNING - Restarting worker\n"
     ]
    },
    {
     "name": "stdout",
     "output_type": "stream",
     "text": [
      "Finish writing mask file  /home/jovyan/nmask_testdata/cbr_dask_run/maskfiles/canberra_2018-04-23_nmask-cog.tif\n",
      "Begin classifying scene  2018-04-26\n",
      "Finish writing mask file  /home/jovyan/nmask_testdata/cbr_dask_run/maskfiles/canberra_2018-04-26_nmask-cog.tif\n",
      "Begin classifying scene  2018-04-28\n"
     ]
    },
    {
     "name": "stderr",
     "output_type": "stream",
     "text": [
      "distributed.nanny - WARNING - Restarting worker\n",
      "distributed.nanny - WARNING - Worker exceeded 95% memory budget. Restarting\n",
      "distributed.nanny - WARNING - Restarting worker\n",
      "distributed.nanny - WARNING - Worker exceeded 95% memory budget. Restarting\n",
      "distributed.nanny - WARNING - Restarting worker\n",
      "distributed.nanny - WARNING - Worker exceeded 95% memory budget. Restarting\n",
      "distributed.nanny - WARNING - Restarting worker\n",
      "distributed.nanny - WARNING - Worker exceeded 95% memory budget. Restarting\n",
      "distributed.nanny - WARNING - Restarting worker\n",
      "distributed.nanny - WARNING - Worker exceeded 95% memory budget. Restarting\n",
      "distributed.nanny - WARNING - Restarting worker\n"
     ]
    },
    {
     "name": "stdout",
     "output_type": "stream",
     "text": [
      "Finish writing mask file  /home/jovyan/nmask_testdata/cbr_dask_run/maskfiles/canberra_2018-04-28_nmask-cog.tif\n"
     ]
    }
   ],
   "source": [
    "\n",
    "\n",
    " # number of rows\n",
    "irow=tg_ds['y'].size\n",
    "# number of columns\n",
    "icol=tg_ds['x'].size\n",
    "# number of time steps\n",
    "tn = tg_ds['time'].size\n",
    "\n",
    "tbnamelist = tsf.get_timebandnames(tg_ds)\n",
    "\n",
    "for i in range(tn):\n",
    "   \n",
    "    nmask = np.zeros(irow*icol, dtype=np.uint8)\n",
    "    blue = tg_ds.blue[i, :, :].persist()\n",
    "    green = tg_ds.green[i, :, :].persist()\n",
    "    red = tg_ds.red[i, :, :].persist()\n",
    "    nir = tg_ds.nir[i, :, :].persist()\n",
    "    swir1 = tg_ds.swir1[i, :, :].persist()\n",
    "    swir2 = tg_ds.swir2[i, :, :].persist()\n",
    "    s6m = tg_ds.s6m.persist()\n",
    "    mndwi = tg_ds.mndwi.persist()\n",
    "    msavi = tg_ds.msavi.persist()\n",
    "    whi = tg_ds.whi.persist()\n",
    "    \n",
    "    ipdata = tf_data(blue, green, red, nir, swir1, swir2, s6m, mndwi, msavi, whi).compute()\n",
    "    \n",
    "    #print(ipdata[:, :, 6].data, ipdata.shape)\n",
    "    \n",
    "    #print(ipdata[:, :, 6].data - bgids[2])\n",
    "    \n",
    "    \n",
    "    \n",
    "    ipmask = ipdata[:, :, 12].data\n",
    "    tfdata = ipdata[:, :, 0:12].data\n",
    "    \n",
    "    ipmask = ipmask.flatten().astype(np.int)\n",
    "    tfdata = tfdata.reshape(irow*icol, 12)\n",
    "    \n",
    "    tfdata = tfdata[ipmask == 1]\n",
    "    tfdata = std_by_paramters(tfdata, 2, norm_paras)\n",
    "    \n",
    "    tbname = tbnamelist[i]\n",
    "    print(\"Begin classifying scene \", tbname)\n",
    "    \n",
    "    mixtures=model.predict(tfdata)\n",
    "    \n",
    "    vdmask = np. argmax(mixtures, axis = 1) + 1\n",
    "    \n",
    "    nmask[ipmask==1] = vdmask\n",
    "    nmask = nmask.reshape(irow, icol)\n",
    "    \n",
    "    nmask =  cym.spatial_filter_v2(nmask)\n",
    "    \n",
    "    dbs.data[0] = nmask\n",
    "    \n",
    "    outfname = outdirc+'/'+loc_str+'_'+tbname+'_nmask-cog.tif'\n",
    "    write_cog(geo_im = dbs, fname = outfname, overwrite = True)\n",
    "  \n",
    "    \n",
    "    print(\"Finish writing mask file \", outfname)\n",
    "    \n",
    "    "
   ]
  },
  {
   "cell_type": "code",
   "execution_count": null,
   "metadata": {},
   "outputs": [],
   "source": []
  },
  {
   "cell_type": "code",
   "execution_count": null,
   "metadata": {},
   "outputs": [],
   "source": []
  }
 ],
 "metadata": {
  "kernelspec": {
   "display_name": "Python 3",
   "language": "python",
   "name": "python3"
  },
  "language_info": {
   "codemirror_mode": {
    "name": "ipython",
    "version": 3
   },
   "file_extension": ".py",
   "mimetype": "text/x-python",
   "name": "python",
   "nbconvert_exporter": "python",
   "pygments_lexer": "ipython3",
   "version": "3.6.9"
  }
 },
 "nbformat": 4,
 "nbformat_minor": 4
}
