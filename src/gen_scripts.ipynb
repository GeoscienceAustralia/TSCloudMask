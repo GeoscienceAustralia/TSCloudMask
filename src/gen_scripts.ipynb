{
 "cells": [
  {
   "cell_type": "code",
   "execution_count": 40,
   "metadata": {},
   "outputs": [],
   "source": [
    "import os\n"
   ]
  },
  {
   "cell_type": "code",
   "execution_count": 41,
   "metadata": {},
   "outputs": [],
   "source": [
    "def mkdir(dirclist):\n",
    "    for dirc in dirclist:\n",
    "        comm = 'mkdir -p '+dirc\n",
    "        os.system(comm)"
   ]
  },
  {
   "cell_type": "code",
   "execution_count": 42,
   "metadata": {},
   "outputs": [],
   "source": [
    "def writetxtfile(dirc, fname, commlist):\n",
    "    \n",
    "    txtfilename = dirc+'/'+fname\n",
    "    f = open(txtfilename, 'w')\n",
    "    for comm in commlist:\n",
    "        f.write(comm+'\\n')\n",
    "    f.close()\n",
    "    chm = ' '.join(('chmod +x', txtfilename))\n",
    "    os.system(chm)"
   ]
  },
  {
   "cell_type": "code",
   "execution_count": 43,
   "metadata": {},
   "outputs": [],
   "source": [
    "dirc = '/g/data/u46/pjt554/nmask_testdata/carnarvon'"
   ]
  },
  {
   "cell_type": "code",
   "execution_count": 44,
   "metadata": {},
   "outputs": [],
   "source": [
    "scrdirc = dirc+'/scripts' "
   ]
  },
  {
   "cell_type": "code",
   "execution_count": 45,
   "metadata": {},
   "outputs": [],
   "source": [
    "tmpdirc = dirc + '/tmpfiles'"
   ]
  },
  {
   "cell_type": "code",
   "execution_count": 46,
   "metadata": {},
   "outputs": [],
   "source": [
    "inddirc = dirc + '/indices'"
   ]
  },
  {
   "cell_type": "code",
   "execution_count": 47,
   "metadata": {},
   "outputs": [],
   "source": [
    "maskdirc = dirc + '/maskfiles'"
   ]
  },
  {
   "cell_type": "code",
   "execution_count": 48,
   "metadata": {},
   "outputs": [],
   "source": [
    "loc_str = 'carnarvon'"
   ]
  },
  {
   "cell_type": "code",
   "execution_count": 49,
   "metadata": {},
   "outputs": [],
   "source": [
    "mkdir([dirc, scrdirc, tmpdirc, inddirc, maskdirc])"
   ]
  },
  {
   "cell_type": "code",
   "execution_count": 50,
   "metadata": {},
   "outputs": [],
   "source": [
    "y1, y2 = -24.76, -24.95\n",
    "x1, x2 = 113.57, 113.82"
   ]
  },
  {
   "cell_type": "code",
   "execution_count": 51,
   "metadata": {},
   "outputs": [],
   "source": [
    "crs = 'EPSG:4326'\n",
    "out_crs = 'EPSG:3577'"
   ]
  },
  {
   "cell_type": "code",
   "execution_count": 52,
   "metadata": {},
   "outputs": [],
   "source": [
    "ncpu = 14\n",
    "mem = 128"
   ]
  },
  {
   "cell_type": "code",
   "execution_count": 53,
   "metadata": {},
   "outputs": [],
   "source": [
    "ind_start_of_epoch = '2016-01-01'\n",
    "ind_end_of_epoch ='2020-12-31'"
   ]
  },
  {
   "cell_type": "code",
   "execution_count": 54,
   "metadata": {},
   "outputs": [],
   "source": [
    "mask_start_of_epoch = '2020-10-01'\n",
    "mask_end_of_epoch = '2021-04-30'"
   ]
  },
  {
   "cell_type": "code",
   "execution_count": 55,
   "metadata": {},
   "outputs": [],
   "source": [
    "pystr ='python3'\n",
    "space =' '\n",
    "codedirc = '/g/data/u46/pjt554/TSCloudMask/src'"
   ]
  },
  {
   "cell_type": "code",
   "execution_count": 56,
   "metadata": {},
   "outputs": [],
   "source": [
    "moddirc = '/g/data/u46/pjt554/TSmaskNN/models'\n",
    "modname ='combine_trdata_tsmask_model'\n"
   ]
  },
  {
   "cell_type": "code",
   "execution_count": 57,
   "metadata": {},
   "outputs": [],
   "source": [
    "comm ='cd '+codedirc\n",
    "commlist =[comm]\n",
    "pgname = codedirc+'/nmask_p0.py'\n",
    "comm = space.join((pystr, pgname, str(ncpu), str(mem), str(y1), str(y2), str(x1), str(x2), crs, out_crs, ind_start_of_epoch, ind_end_of_epoch, inddirc, loc_str))\n",
    "commlist.append(comm)\n",
    "fname = loc_str+'_p0.sh'\n",
    "writetxtfile(scrdirc, fname, commlist)"
   ]
  },
  {
   "cell_type": "code",
   "execution_count": 58,
   "metadata": {},
   "outputs": [],
   "source": [
    "comm ='cd '+codedirc\n",
    "commlist =[comm]\n",
    "indstr=ind_start_of_epoch+'_'+ind_end_of_epoch\n",
    "pgname = codedirc+'/nmask_p1.py'\n",
    "comm = space.join((pystr, pgname, str(y1), str(y2), str(x1), str(x2), crs, out_crs, mask_start_of_epoch, mask_end_of_epoch, inddirc, indstr, tmpdirc, loc_str)) \n",
    "commlist.append(comm)\n",
    "fname = loc_str+'_p1.sh'\n",
    "writetxtfile(scrdirc, fname, commlist)"
   ]
  },
  {
   "cell_type": "code",
   "execution_count": 59,
   "metadata": {},
   "outputs": [],
   "source": [
    "comm ='cd '+codedirc\n",
    "commlist =[comm]\n",
    "pgname = codedirc+'/nmask_p2.py'\n",
    "comm = space.join((pystr, pgname, tmpdirc, loc_str, moddirc, modname)) \n",
    "commlist.append(comm)\n",
    "fname = loc_str+'_p2.sh'\n",
    "writetxtfile(scrdirc, fname, commlist)"
   ]
  },
  {
   "cell_type": "code",
   "execution_count": 60,
   "metadata": {},
   "outputs": [],
   "source": [
    "comm ='cd '+codedirc\n",
    "commlist =[comm]\n",
    "pgname = codedirc+'/nmask_p3.py'\n",
    "indfile = inddirc +'/'+loc_str+'_msavi_'+ind_start_of_epoch+'_'+ind_end_of_epoch+'.tif'\n",
    "comm = space.join((pystr, pgname, tmpdirc, maskdirc, loc_str, indfile)) \n",
    "commlist.append(comm)\n",
    "fname = loc_str+'_p3.sh'\n",
    "writetxtfile(scrdirc, fname, commlist)"
   ]
  },
  {
   "cell_type": "code",
   "execution_count": null,
   "metadata": {},
   "outputs": [],
   "source": []
  }
 ],
 "metadata": {
  "kernelspec": {
   "display_name": "Python 3",
   "language": "python",
   "name": "python3"
  },
  "language_info": {
   "codemirror_mode": {
    "name": "ipython",
    "version": 3
   },
   "file_extension": ".py",
   "mimetype": "text/x-python",
   "name": "python",
   "nbconvert_exporter": "python",
   "pygments_lexer": "ipython3",
   "version": "3.6.10"
  }
 },
 "nbformat": 4,
 "nbformat_minor": 4
}
