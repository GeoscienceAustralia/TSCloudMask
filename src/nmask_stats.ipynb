{
 "cells": [
  {
   "cell_type": "code",
   "execution_count": 1,
   "metadata": {},
   "outputs": [],
   "source": [
    "\n",
    "import rasterio\n",
    "import xarray as xr\n",
    "import sys\n",
    "import datacube\n",
    "import numpy as np\n",
    "\n",
    "import os\n",
    "\n",
    "sys.path.append('../lib')\n",
    "\n",
    "import nmask_pmod as pym\n",
    "from datacube.utils.cog import write_cog\n",
    "\n"
   ]
  },
  {
   "cell_type": "code",
   "execution_count": 4,
   "metadata": {},
   "outputs": [],
   "source": [
    "def test_nmask_stats(outdirc, loc_str, y, x):\n",
    "    \n",
    "    \n",
    "    \n",
    "    start_of_epoch = '2015-01-01'\n",
    "    end_of_epoch ='2020-12-31'\n",
    "\n",
    "    crs = 'EPSG:4326'\n",
    "    out_crs = 'EPSG:3577'\n",
    "\n",
    "    loc_dirc = outdirc + '/' + loc_str\n",
    "    maskdirc = loc_dirc + '/maskfiles'\n",
    "    inddirc = loc_dirc + '/indices'\n",
    "\n",
    "    comm = 'mkdir '+loc_dirc\n",
    "    os.system(comm)\n",
    "    comm = 'mkdir '+maskdirc\n",
    "    os.system(comm)\n",
    "    comm = 'mkdir '+inddirc\n",
    "    os.system(comm)\n",
    "    \n",
    "    \n",
    "    xs = (x - 0.02, x + 0.02)\n",
    "    ys = (y - 0.02, y + 0.02)\n",
    "\n",
    "    dc = datacube.Datacube()\n",
    "    tg_ds = dc.load(['s2a_ard_granule', 's2b_ard_granule'], output_crs=out_crs, resolution=(-20, 20), time=('2015-01-01','2020-12-31'),\n",
    "             x=xs, y=ys, group_by='solar_day', measurements=['nbart_red', 'nbart_green', 'nbart_blue',\n",
    "                                                             'nbart_nir_2', 'nbart_swir_2', 'nbart_swir_3'])\n",
    "\n",
    "    tg_ds = pym.summarise(tg_ds)\n",
    "    \n",
    "    #print(tg_ds['s6m'])    \n",
    "    geotrans = tg_ds.geobox.transform.to_gdal()\n",
    "    prj = tg_ds.geobox.crs.wkt\n",
    "\n",
    "\n",
    "    indices_list=[ 's6m', 's6m_std', 'mndwi', 'mndwi_std','msavi', 'msavi_std','whi', 'whi_std']\n",
    "    print(\"Begin writing long term mean of indices files\")\n",
    "\n",
    "    outdirc = inddirc\n",
    "\n",
    "    for i, indname in enumerate(indices_list):\n",
    "    \n",
    "        outfname = outdirc + '/'+loc_str+'_'+indname+'_'+start_of_epoch+'_'+end_of_epoch+'-cog.tif'\n",
    "        write_cog(geo_im = tg_ds[indname], fname = outfname, overwrite = True)\n",
    "\n",
    "    print(\"Finish writing long term mean of indices files\")\n",
    "\n",
    "    tg_ds.close()\n",
    "    "
   ]
  },
  {
   "cell_type": "code",
   "execution_count": 3,
   "metadata": {},
   "outputs": [
    {
     "name": "stderr",
     "output_type": "stream",
     "text": [
      "/env/lib/python3.6/site-packages/datacube/drivers/postgres/_connections.py:87: SADeprecationWarning: Calling URL() directly is deprecated and will be disabled in a future release.  The public constructor for URL is now the URL.create() method.\n",
      "  username=username, password=password,\n"
     ]
    },
    {
     "name": "stdout",
     "output_type": "stream",
     "text": [
      "Begin writing long term mean of indices files\n",
      "Finish writing long term mean of indices files\n"
     ]
    }
   ],
   "source": [
    "outdirc ='/home/jovyan/nmask_testdata/stats_test'\n",
    "\n",
    "loc_str = 'canberra'\n",
    "y = -35.3\n",
    "x = 149.12\n",
    "test_nmask_stats(outdirc, loc_str, y, x)\n",
    "\n"
   ]
  },
  {
   "cell_type": "code",
   "execution_count": 5,
   "metadata": {},
   "outputs": [
    {
     "name": "stderr",
     "output_type": "stream",
     "text": [
      "/env/lib/python3.6/site-packages/datacube/drivers/postgres/_connections.py:87: SADeprecationWarning: Calling URL() directly is deprecated and will be disabled in a future release.  The public constructor for URL is now the URL.create() method.\n",
      "  username=username, password=password,\n"
     ]
    },
    {
     "name": "stdout",
     "output_type": "stream",
     "text": [
      "Begin writing long term mean of indices files\n",
      "Finish writing long term mean of indices files\n"
     ]
    }
   ],
   "source": [
    "outdirc ='/home/jovyan/nmask_testdata/stats_test'\n",
    "\n",
    "loc_str = 'alice_spring'\n",
    "y = -23.70\n",
    "x = 133.88\n",
    "test_nmask_stats(outdirc, loc_str, y, x)"
   ]
  },
  {
   "cell_type": "code",
   "execution_count": 6,
   "metadata": {},
   "outputs": [
    {
     "name": "stderr",
     "output_type": "stream",
     "text": [
      "/env/lib/python3.6/site-packages/datacube/drivers/postgres/_connections.py:87: SADeprecationWarning: Calling URL() directly is deprecated and will be disabled in a future release.  The public constructor for URL is now the URL.create() method.\n",
      "  username=username, password=password,\n"
     ]
    },
    {
     "name": "stdout",
     "output_type": "stream",
     "text": [
      "Begin writing long term mean of indices files\n",
      "Finish writing long term mean of indices files\n"
     ]
    }
   ],
   "source": [
    "outdirc ='/home/jovyan/nmask_testdata/stats_test'\n",
    "\n",
    "loc_str = 'broome'\n",
    "y = -17.96\n",
    "x = 122.23\n",
    "test_nmask_stats(outdirc, loc_str, y, x)"
   ]
  },
  {
   "cell_type": "code",
   "execution_count": 7,
   "metadata": {},
   "outputs": [
    {
     "name": "stderr",
     "output_type": "stream",
     "text": [
      "/env/lib/python3.6/site-packages/datacube/drivers/postgres/_connections.py:87: SADeprecationWarning: Calling URL() directly is deprecated and will be disabled in a future release.  The public constructor for URL is now the URL.create() method.\n",
      "  username=username, password=password,\n"
     ]
    },
    {
     "name": "stdout",
     "output_type": "stream",
     "text": [
      "Begin writing long term mean of indices files\n",
      "Finish writing long term mean of indices files\n"
     ]
    }
   ],
   "source": [
    "outdirc ='/home/jovyan/nmask_testdata/stats_test'\n",
    "\n",
    "loc_str = 'cairns'\n",
    "y = -16.92\n",
    "x = 145.77\n",
    "test_nmask_stats(outdirc, loc_str, y, x)"
   ]
  },
  {
   "cell_type": "code",
   "execution_count": null,
   "metadata": {},
   "outputs": [],
   "source": []
  }
 ],
 "metadata": {
  "kernelspec": {
   "display_name": "Python 3",
   "language": "python",
   "name": "python3"
  },
  "language_info": {
   "codemirror_mode": {
    "name": "ipython",
    "version": 3
   },
   "file_extension": ".py",
   "mimetype": "text/x-python",
   "name": "python",
   "nbconvert_exporter": "python",
   "pygments_lexer": "ipython3",
   "version": "3.6.9"
  }
 },
 "nbformat": 4,
 "nbformat_minor": 5
}
